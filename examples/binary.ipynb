{
 "cells": [
  {
   "cell_type": "code",
   "execution_count": 1,
   "metadata": {},
   "outputs": [],
   "source": [
    "import os\n",
    "os.chdir('..')\n",
    "\n",
    "from puzzle_generator import *"
   ]
  },
  {
   "cell_type": "code",
   "execution_count": 2,
   "metadata": {},
   "outputs": [],
   "source": [
    "width = 8\n",
    "height = 6\n",
    "puzzle = RectangularPuzzle(\n",
    "    width=width,\n",
    "    height=height\n",
    ")\n",
    "\n",
    "puzzle.solving_timeout = 5 # 10\n",
    "\n",
    "puzzle.naming = {\n",
    "    None: '_',\n",
    "    '0': '0',\n",
    "    '1': '1',\n",
    "}\n",
    "\n",
    "puzzle.latex_naming = {\n",
    "    None: ' ',\n",
    "    '0': '\\\\Large \\\\ensuremath{0}',\n",
    "    '1': '\\\\Large \\\\ensuremath{1}',\n",
    "}\n",
    "\n",
    "puzzle.domain_program += f\"\"\"\n",
    "    value(0;1).\n",
    "\"\"\"\n",
    "\n",
    "puzzle.puzzle_gen_program += \"\"\"\n",
    "    { puzzle(C,V) : cell(C), value(V) }.\n",
    "\"\"\"\n",
    "puzzle.puzzle_constraints_program += \"\"\"\n",
    "    #minimize { 1,puzzle(C,V) : puzzle(C,V) }.\n",
    "\"\"\"\n",
    "\n",
    "puzzle.solution_program = \"\"\"\n",
    "    1 { solution(C,V) : value(V) } 1 :- cell(C).\n",
    "    solution(C,V) :- puzzle(C,V).\n",
    "\"\"\"\n",
    "puzzle.solution_program += enc_library['three_in_a_row']\n",
    "\n",
    "puzzle.designated_solution_constraints = [\n",
    "    \"\"\"\n",
    "    rows_diff(Row1,Row2) :- row(Row1), row(Row2), Row1 < Row2,\n",
    "        col(Col), solution(c(Row1,Col),V1), solution(c(Row2,Col),V2),\n",
    "        V1 != V2.\n",
    "    :- row(Row1), row(Row2), Row1 < Row2, not rows_diff(Row1,Row2).\n",
    "\n",
    "    cols_diff(Col1,Col2) :- col(Col1), col(Col2), Col1 < Col2,\n",
    "        row(Row), solution(c(Row,Col1),V1), solution(c(Row,Col2),V2),\n",
    "        V1 != V2.\n",
    "    :- col(Col1), col(Col2), Col1 < Col2, not cols_diff(Col1,Col2).\n",
    "    \"\"\",\n",
    "    \"\"\"\n",
    "    :- value(V), row(Row), not board_width/2 { solution(c(Row,Col),V) : col(Col) } board_width/2.\n",
    "    :- value(V), col(Col), not board_height/2 { solution(c(Row,Col),V) : row(Row) } board_height/2.\n",
    "    \"\"\",\n",
    "]"
   ]
  },
  {
   "cell_type": "code",
   "execution_count": 3,
   "metadata": {},
   "outputs": [
    {
     "name": "stdout",
     "output_type": "stream",
     "text": [
      ".........................................\n",
      "Stopped after solving timeout..\n",
      "Solving time: 5.69 seconds\n",
      "\n"
     ]
    }
   ],
   "source": [
    "puzzle.generate(\n",
    "    verbose=True,\n",
    "    precompute_solution=False,\n",
    ")"
   ]
  },
  {
   "cell_type": "code",
   "execution_count": 4,
   "metadata": {},
   "outputs": [
    {
     "name": "stdout",
     "output_type": "stream",
     "text": [
      "|_|_|_|_|_|_|_|_|\n",
      "|_|_|_|_|0|_|_|_|\n",
      "|_|_|_|_|_|_|_|_|\n",
      "|0|_|_|_|_|_|_|_|\n",
      "|_|1|1|_|0|_|_|0|\n",
      "|_|1|_|_|_|_|_|_|\n"
     ]
    }
   ],
   "source": [
    "print(puzzle.pretty_repr_puzzle())"
   ]
  },
  {
   "cell_type": "code",
   "execution_count": 5,
   "metadata": {},
   "outputs": [
    {
     "name": "stdout",
     "output_type": "stream",
     "text": [
      "|1|0|1|0|1|0|0|1|\n",
      "|0|1|0|1|0|1|0|1|\n",
      "|1|0|0|1|1|0|1|0|\n",
      "|0|0|1|0|1|1|0|1|\n",
      "|0|1|1|0|0|1|1|0|\n",
      "|1|1|0|1|0|0|1|0|\n"
     ]
    }
   ],
   "source": [
    "print(puzzle.pretty_repr_solution())"
   ]
  },
  {
   "cell_type": "code",
   "execution_count": 6,
   "metadata": {},
   "outputs": [
    {
     "name": "stdout",
     "output_type": "stream",
     "text": [
      "\n",
      "\\begin{tikzpicture}[scale=1]\n",
      "  \\begin{scope}\n",
      "    \\draw (0,0) grid (8,6);\n",
      "    \\draw[ultra thick]\n",
      "      (0,0) rectangle (8,6);\n",
      "      \\node[anchor=center] at (4.5,4.5) {\\Large \\ensuremath{0}};\n",
      "      \\node[anchor=center] at (0.5,2.5) {\\Large \\ensuremath{0}};\n",
      "      \\node[anchor=center] at (1.5,1.5) {\\Huge \\ensuremath{\\ast}};\n",
      "      \\node[anchor=center] at (2.5,1.5) {\\Huge \\ensuremath{\\ast}};\n",
      "      \\node[anchor=center] at (4.5,1.5) {\\Large \\ensuremath{0}};\n",
      "      \\node[anchor=center] at (7.5,1.5) {\\Large \\ensuremath{0}};\n",
      "      \\node[anchor=center] at (1.5,0.5) {\\Huge \\ensuremath{\\ast}};\n",
      "  \\end{scope}\n",
      "\\end{tikzpicture}\n",
      "\n"
     ]
    }
   ],
   "source": [
    "print(puzzle.latex_repr_puzzle())"
   ]
  },
  {
   "cell_type": "code",
   "execution_count": 7,
   "metadata": {},
   "outputs": [
    {
     "name": "stdout",
     "output_type": "stream",
     "text": [
      "\n",
      "\\begin{tikzpicture}[scale=1]\n",
      "  \\begin{scope}\n",
      "    \\draw (0,0) grid (8,6);\n",
      "    \\draw[ultra thick]\n",
      "      (0,0) rectangle (8,6);\n",
      "      \\node[anchor=center] at (0.5,5.5) {\\Huge \\ensuremath{\\ast}};\n",
      "      \\node[anchor=center] at (1.5,5.5) {\\Large \\ensuremath{0}};\n",
      "      \\node[anchor=center] at (2.5,5.5) {\\Huge \\ensuremath{\\ast}};\n",
      "      \\node[anchor=center] at (3.5,5.5) {\\Large \\ensuremath{0}};\n",
      "      \\node[anchor=center] at (4.5,5.5) {\\Huge \\ensuremath{\\ast}};\n",
      "      \\node[anchor=center] at (5.5,5.5) {\\Large \\ensuremath{0}};\n",
      "      \\node[anchor=center] at (6.5,5.5) {\\Large \\ensuremath{0}};\n",
      "      \\node[anchor=center] at (7.5,5.5) {\\Huge \\ensuremath{\\ast}};\n",
      "      \\node[anchor=center] at (0.5,4.5) {\\Large \\ensuremath{0}};\n",
      "      \\node[anchor=center] at (1.5,4.5) {\\Huge \\ensuremath{\\ast}};\n",
      "      \\node[anchor=center] at (2.5,4.5) {\\Large \\ensuremath{0}};\n",
      "      \\node[anchor=center] at (3.5,4.5) {\\Huge \\ensuremath{\\ast}};\n",
      "      \\node[anchor=center] at (4.5,4.5) {\\Large \\ensuremath{0}};\n",
      "      \\node[anchor=center] at (5.5,4.5) {\\Huge \\ensuremath{\\ast}};\n",
      "      \\node[anchor=center] at (6.5,4.5) {\\Large \\ensuremath{0}};\n",
      "      \\node[anchor=center] at (7.5,4.5) {\\Huge \\ensuremath{\\ast}};\n",
      "      \\node[anchor=center] at (0.5,3.5) {\\Huge \\ensuremath{\\ast}};\n",
      "      \\node[anchor=center] at (1.5,3.5) {\\Large \\ensuremath{0}};\n",
      "      \\node[anchor=center] at (2.5,3.5) {\\Large \\ensuremath{0}};\n",
      "      \\node[anchor=center] at (3.5,3.5) {\\Huge \\ensuremath{\\ast}};\n",
      "      \\node[anchor=center] at (4.5,3.5) {\\Huge \\ensuremath{\\ast}};\n",
      "      \\node[anchor=center] at (5.5,3.5) {\\Large \\ensuremath{0}};\n",
      "      \\node[anchor=center] at (6.5,3.5) {\\Huge \\ensuremath{\\ast}};\n",
      "      \\node[anchor=center] at (7.5,3.5) {\\Large \\ensuremath{0}};\n",
      "      \\node[anchor=center] at (0.5,2.5) {\\Large \\ensuremath{0}};\n",
      "      \\node[anchor=center] at (1.5,2.5) {\\Large \\ensuremath{0}};\n",
      "      \\node[anchor=center] at (2.5,2.5) {\\Huge \\ensuremath{\\ast}};\n",
      "      \\node[anchor=center] at (3.5,2.5) {\\Large \\ensuremath{0}};\n",
      "      \\node[anchor=center] at (4.5,2.5) {\\Huge \\ensuremath{\\ast}};\n",
      "      \\node[anchor=center] at (5.5,2.5) {\\Huge \\ensuremath{\\ast}};\n",
      "      \\node[anchor=center] at (6.5,2.5) {\\Large \\ensuremath{0}};\n",
      "      \\node[anchor=center] at (7.5,2.5) {\\Huge \\ensuremath{\\ast}};\n",
      "      \\node[anchor=center] at (0.5,1.5) {\\Large \\ensuremath{0}};\n",
      "      \\node[anchor=center] at (1.5,1.5) {\\Huge \\ensuremath{\\ast}};\n",
      "      \\node[anchor=center] at (2.5,1.5) {\\Huge \\ensuremath{\\ast}};\n",
      "      \\node[anchor=center] at (3.5,1.5) {\\Large \\ensuremath{0}};\n",
      "      \\node[anchor=center] at (4.5,1.5) {\\Large \\ensuremath{0}};\n",
      "      \\node[anchor=center] at (5.5,1.5) {\\Huge \\ensuremath{\\ast}};\n",
      "      \\node[anchor=center] at (6.5,1.5) {\\Huge \\ensuremath{\\ast}};\n",
      "      \\node[anchor=center] at (7.5,1.5) {\\Large \\ensuremath{0}};\n",
      "      \\node[anchor=center] at (0.5,0.5) {\\Huge \\ensuremath{\\ast}};\n",
      "      \\node[anchor=center] at (1.5,0.5) {\\Huge \\ensuremath{\\ast}};\n",
      "      \\node[anchor=center] at (2.5,0.5) {\\Large \\ensuremath{0}};\n",
      "      \\node[anchor=center] at (3.5,0.5) {\\Huge \\ensuremath{\\ast}};\n",
      "      \\node[anchor=center] at (4.5,0.5) {\\Large \\ensuremath{0}};\n",
      "      \\node[anchor=center] at (5.5,0.5) {\\Large \\ensuremath{0}};\n",
      "      \\node[anchor=center] at (6.5,0.5) {\\Huge \\ensuremath{\\ast}};\n",
      "      \\node[anchor=center] at (7.5,0.5) {\\Large \\ensuremath{0}};\n",
      "  \\end{scope}\n",
      "\\end{tikzpicture}\n",
      "\n"
     ]
    }
   ],
   "source": [
    "print(puzzle.latex_repr_solution())"
   ]
  }
 ],
 "metadata": {
  "kernelspec": {
   "display_name": "Python 3 (ipykernel)",
   "language": "python",
   "name": "python3"
  },
  "language_info": {
   "codemirror_mode": {
    "name": "ipython",
    "version": 3
   },
   "file_extension": ".py",
   "mimetype": "text/x-python",
   "name": "python",
   "nbconvert_exporter": "python",
   "pygments_lexer": "ipython3",
   "version": "3.9.12"
  }
 },
 "nbformat": 4,
 "nbformat_minor": 4
}
