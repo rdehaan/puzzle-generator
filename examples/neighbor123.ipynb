{
 "cells": [
  {
   "cell_type": "code",
   "execution_count": 1,
   "metadata": {},
   "outputs": [],
   "source": [
    "import os\n",
    "os.chdir('..')\n",
    "\n",
    "from puzzle_generator import *"
   ]
  },
  {
   "cell_type": "code",
   "execution_count": 2,
   "metadata": {},
   "outputs": [],
   "source": [
    "width = 6\n",
    "height = 4\n",
    "puzzle = RectangularPuzzle(\n",
    "    width=width,\n",
    "    height=height\n",
    ")\n",
    "\n",
    "puzzle.solving_timeout = 60\n",
    "\n",
    "puzzle.naming = {\n",
    "    None: '_',\n",
    "}\n",
    "puzzle.latex_naming = {\n",
    "    None: ' ',\n",
    "    'e': ' ',\n",
    "}\n",
    "for i in range(0, 10):\n",
    "    puzzle.latex_naming[str(i)] = f'\\\\Large \\\\ensuremath{{{i}}}'\n",
    "\n",
    "\n",
    "puzzle.domain_program += \"\"\"\n",
    "    num(0..9).\n",
    "    value(N) :- num(N).\n",
    "\"\"\"\n",
    "\n",
    "puzzle.puzzle_gen_program += \"\"\"\n",
    "    { puzzle(C,V) : cell(C), value(V) }.\n",
    "\"\"\"\n",
    "puzzle.puzzle_constraints_program += \"\"\"\n",
    "    #minimize { 1,puzzle(C,V) : puzzle(C,V) }.\n",
    "    \n",
    "    %:- puzzle(C,0).\n",
    "    %:- puzzle(C,9).\n",
    "\"\"\"\n",
    "\n",
    "puzzle.solution_program = \"\"\"\n",
    "    1 { solution(C,V) : value(V) } 1 :- cell(C).\n",
    "    solution(C,V) :- puzzle(C,V).\n",
    "\"\"\"\n",
    "puzzle.solution_program += enc_library['adjacent_cells']\n",
    "puzzle.solution_program += enc_library['knights_move']\n",
    "\n",
    "puzzle.solution_program += \"\"\"\n",
    "    cell_check(C1) :- cell(C1), adjacent_cells(C1,C2),\n",
    "        solution(C1,V1), solution(C2,V2), V1 = V2 - 1.\n",
    "    cell_check(C1) :- cell(C1), adjacent_cells(C1,C2),\n",
    "        solution(C1,V1), solution(C2,V2), V1 = V2 + 2.\n",
    "    :- cell(C), not cell_check(C).\n",
    "\"\"\"\n",
    "puzzle.essential_solution_constraints = [\n",
    "    \"\"\"\n",
    "    :- knights_move(C1,C2), solution(C1,V1), solution(C2,V2),\n",
    "        |V1-V2| = 3.\n",
    "    \"\"\",\n",
    "]"
   ]
  },
  {
   "cell_type": "code",
   "execution_count": 3,
   "metadata": {},
   "outputs": [
    {
     "name": "stdout",
     "output_type": "stream",
     "text": [
      "Done grounding..\n",
      "...................\n",
      "Stopped after solving timeout..\n",
      "Solving time: 60.74 seconds\n",
      "\n"
     ]
    }
   ],
   "source": [
    "puzzle.generate(\n",
    "    verbose=True,\n",
    "    precompute_solution=False,\n",
    ")"
   ]
  },
  {
   "cell_type": "code",
   "execution_count": 4,
   "metadata": {},
   "outputs": [
    {
     "name": "stdout",
     "output_type": "stream",
     "text": [
      "|_|_|_|_|_|7|\n",
      "|_|_|_|_|_|_|\n",
      "|_|_|_|_|_|8|\n",
      "|1|9|4|_|_|_|\n"
     ]
    }
   ],
   "source": [
    "print(puzzle.pretty_repr_puzzle())"
   ]
  },
  {
   "cell_type": "code",
   "execution_count": 5,
   "metadata": {},
   "outputs": [
    {
     "name": "stdout",
     "output_type": "stream",
     "text": [
      "|1|2|3|1|8|7|\n",
      "|3|5|2|2|9|7|\n",
      "|2|7|1|3|8|8|\n",
      "|1|9|4|2|7|9|\n"
     ]
    }
   ],
   "source": [
    "print(puzzle.pretty_repr_solution())"
   ]
  },
  {
   "cell_type": "code",
   "execution_count": 6,
   "metadata": {},
   "outputs": [
    {
     "name": "stdout",
     "output_type": "stream",
     "text": [
      "\n",
      "\\begin{tikzpicture}[scale=1]\n",
      "  \\begin{scope}\n",
      "    \\draw (0,0) grid (6,4);\n",
      "    \\draw[ultra thick]\n",
      "      (0,0) rectangle (6,4);\n",
      "      \\node[anchor=center] (1;1) at (0.5,3.5) { };\n",
      "      \\node[anchor=center] (1;2) at (1.5,3.5) { };\n",
      "      \\node[anchor=center] (1;3) at (2.5,3.5) { };\n",
      "      \\node[anchor=center] (1;4) at (3.5,3.5) { };\n",
      "      \\node[anchor=center] (1;5) at (4.5,3.5) { };\n",
      "      \\node[anchor=center] (1;6) at (5.5,3.5) {\\Large \\ensuremath{7}};\n",
      "      \\node[anchor=center] (2;1) at (0.5,2.5) { };\n",
      "      \\node[anchor=center] (2;2) at (1.5,2.5) { };\n",
      "      \\node[anchor=center] (2;3) at (2.5,2.5) { };\n",
      "      \\node[anchor=center] (2;4) at (3.5,2.5) { };\n",
      "      \\node[anchor=center] (2;5) at (4.5,2.5) { };\n",
      "      \\node[anchor=center] (2;6) at (5.5,2.5) { };\n",
      "      \\node[anchor=center] (3;1) at (0.5,1.5) { };\n",
      "      \\node[anchor=center] (3;2) at (1.5,1.5) { };\n",
      "      \\node[anchor=center] (3;3) at (2.5,1.5) { };\n",
      "      \\node[anchor=center] (3;4) at (3.5,1.5) { };\n",
      "      \\node[anchor=center] (3;5) at (4.5,1.5) { };\n",
      "      \\node[anchor=center] (3;6) at (5.5,1.5) {\\Large \\ensuremath{8}};\n",
      "      \\node[anchor=center] (4;1) at (0.5,0.5) {\\Large \\ensuremath{1}};\n",
      "      \\node[anchor=center] (4;2) at (1.5,0.5) {\\Large \\ensuremath{9}};\n",
      "      \\node[anchor=center] (4;3) at (2.5,0.5) {\\Large \\ensuremath{4}};\n",
      "      \\node[anchor=center] (4;4) at (3.5,0.5) { };\n",
      "      \\node[anchor=center] (4;5) at (4.5,0.5) { };\n",
      "      \\node[anchor=center] (4;6) at (5.5,0.5) { };\n",
      "  \\end{scope}\n",
      "\\end{tikzpicture}\n",
      "\n"
     ]
    }
   ],
   "source": [
    "print(puzzle.latex_repr_puzzle())"
   ]
  },
  {
   "cell_type": "code",
   "execution_count": 7,
   "metadata": {},
   "outputs": [
    {
     "name": "stdout",
     "output_type": "stream",
     "text": [
      "\n",
      "\\begin{tikzpicture}[scale=1]\n",
      "  \\begin{scope}\n",
      "    \\draw (0,0) grid (6,4);\n",
      "    \\draw[ultra thick]\n",
      "      (0,0) rectangle (6,4);\n",
      "      \\node[anchor=center] (1;1) at (0.5,3.5) {\\Large \\ensuremath{1}};\n",
      "      \\node[anchor=center] (1;2) at (1.5,3.5) {\\Large \\ensuremath{2}};\n",
      "      \\node[anchor=center] (1;3) at (2.5,3.5) {\\Large \\ensuremath{3}};\n",
      "      \\node[anchor=center] (1;4) at (3.5,3.5) {\\Large \\ensuremath{1}};\n",
      "      \\node[anchor=center] (1;5) at (4.5,3.5) {\\Large \\ensuremath{8}};\n",
      "      \\node[anchor=center] (1;6) at (5.5,3.5) {\\Large \\ensuremath{7}};\n",
      "      \\node[anchor=center] (2;1) at (0.5,2.5) {\\Large \\ensuremath{3}};\n",
      "      \\node[anchor=center] (2;2) at (1.5,2.5) {\\Large \\ensuremath{5}};\n",
      "      \\node[anchor=center] (2;3) at (2.5,2.5) {\\Large \\ensuremath{2}};\n",
      "      \\node[anchor=center] (2;4) at (3.5,2.5) {\\Large \\ensuremath{2}};\n",
      "      \\node[anchor=center] (2;5) at (4.5,2.5) {\\Large \\ensuremath{9}};\n",
      "      \\node[anchor=center] (2;6) at (5.5,2.5) {\\Large \\ensuremath{7}};\n",
      "      \\node[anchor=center] (3;1) at (0.5,1.5) {\\Large \\ensuremath{2}};\n",
      "      \\node[anchor=center] (3;2) at (1.5,1.5) {\\Large \\ensuremath{7}};\n",
      "      \\node[anchor=center] (3;3) at (2.5,1.5) {\\Large \\ensuremath{1}};\n",
      "      \\node[anchor=center] (3;4) at (3.5,1.5) {\\Large \\ensuremath{3}};\n",
      "      \\node[anchor=center] (3;5) at (4.5,1.5) {\\Large \\ensuremath{8}};\n",
      "      \\node[anchor=center] (3;6) at (5.5,1.5) {\\Large \\ensuremath{8}};\n",
      "      \\node[anchor=center] (4;1) at (0.5,0.5) {\\Large \\ensuremath{1}};\n",
      "      \\node[anchor=center] (4;2) at (1.5,0.5) {\\Large \\ensuremath{9}};\n",
      "      \\node[anchor=center] (4;3) at (2.5,0.5) {\\Large \\ensuremath{4}};\n",
      "      \\node[anchor=center] (4;4) at (3.5,0.5) {\\Large \\ensuremath{2}};\n",
      "      \\node[anchor=center] (4;5) at (4.5,0.5) {\\Large \\ensuremath{7}};\n",
      "      \\node[anchor=center] (4;6) at (5.5,0.5) {\\Large \\ensuremath{9}};\n",
      "  \\end{scope}\n",
      "\\end{tikzpicture}\n",
      "\n"
     ]
    }
   ],
   "source": [
    "print(puzzle.latex_repr_solution())"
   ]
  }
 ],
 "metadata": {
  "kernelspec": {
   "display_name": "Python 3 (ipykernel)",
   "language": "python",
   "name": "python3"
  },
  "language_info": {
   "codemirror_mode": {
    "name": "ipython",
    "version": 3
   },
   "file_extension": ".py",
   "mimetype": "text/x-python",
   "name": "python",
   "nbconvert_exporter": "python",
   "pygments_lexer": "ipython3",
   "version": "3.9.12"
  }
 },
 "nbformat": 4,
 "nbformat_minor": 4
}
