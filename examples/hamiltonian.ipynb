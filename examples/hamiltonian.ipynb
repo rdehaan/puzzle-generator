{
 "cells": [
  {
   "cell_type": "code",
   "execution_count": 1,
   "metadata": {},
   "outputs": [],
   "source": [
    "import os\n",
    "os.chdir('..')\n",
    "\n",
    "from puzzle_generator import *"
   ]
  },
  {
   "cell_type": "code",
   "execution_count": 2,
   "metadata": {},
   "outputs": [],
   "source": [
    "width = 8\n",
    "height = 4\n",
    "puzzle = RectangularPuzzle(\n",
    "    width=width,\n",
    "    height=height\n",
    ")\n",
    "\n",
    "puzzle.solving_timeout = 30\n",
    "\n",
    "puzzle.naming = {\n",
    "    None: '_',\n",
    "    'u': '^',\n",
    "    'd': 'v',\n",
    "    'l': '<',\n",
    "    'r': '>',\n",
    "}\n",
    "\n",
    "puzzle.domain_program += f\"\"\"\n",
    "    value(u;d;l;r).\n",
    "\"\"\"\n",
    "\n",
    "puzzle.puzzle_gen_program += \"\"\"\n",
    "    { puzzle(C,V) : cell(C), value(V) }.\n",
    "\"\"\"\n",
    "puzzle.puzzle_constraints_program += \"\"\"\n",
    "    #minimize { 1,puzzle(C,V) : puzzle(C,V) }.\n",
    "\"\"\"\n",
    "\n",
    "puzzle.solution_program = \"\"\"\n",
    "    1 { solution(C,V) : value(V) } 1 :- cell(C).\n",
    "    solution(C,V) :- puzzle(C,V).\n",
    "\"\"\"\n",
    "puzzle.solution_program += \"\"\"\n",
    "    max_position(board_height*board_width).\n",
    "    position(1..board_height*board_width).\n",
    "    1 { map(C,P) : position(P) } 1 :- cell(C).\n",
    "    1 { map(C,P) : cell(C) } 1 :- position(P).\n",
    "    :- not map(c(1,1),1).\n",
    "    \n",
    "    :- cell(c(Row,Col)),\n",
    "        Row = board_height,\n",
    "        solution(c(Row,Col),d).\n",
    "    :- cell(c(Row,Col)),\n",
    "        Row = 1,\n",
    "        solution(c(Row,Col),u).\n",
    "    :- cell(c(Row,Col)),\n",
    "        Col = board_width,\n",
    "        solution(c(Row,Col),r).\n",
    "    :- cell(c(Row,Col)),\n",
    "        Col = 1,\n",
    "        solution(c(Row,Col),l).\n",
    "    \n",
    "    next_position(P,P+1) :-\n",
    "        position(P), not max_position(P).\n",
    "    next_position(P,1) :- max_position(P).\n",
    "    \n",
    "    :- cell(C1), C1 = c(Row,Col), solution(C1,r),\n",
    "        cell(C2), C2 = c(Row,Col+1),\n",
    "        map(C1,P1), map(C2,P2), not next_position(P1,P2).\n",
    "    :- cell(C1), C1 = c(Row,Col), solution(C1,r),\n",
    "        cell(C2), C2 = c(Row,Col+1),\n",
    "        map(C1,P1), not map(C2,P2), next_position(P1,P2).\n",
    "    \n",
    "    :- cell(C1), C1 = c(Row,Col), solution(C1,l),\n",
    "        cell(C2), C2 = c(Row,Col-1),\n",
    "        map(C1,P1), map(C2,P2), not next_position(P1,P2).\n",
    "    :- cell(C1), C1 = c(Row,Col), solution(C1,l),\n",
    "        cell(C2), C2 = c(Row,Col-1),\n",
    "        map(C1,P1), not map(C2,P2), next_position(P1,P2).\n",
    "    \n",
    "    :- cell(C1), C1 = c(Row,Col), solution(C1,u),\n",
    "        cell(C2), C2 = c(Row-1,Col),\n",
    "        map(C1,P1), map(C2,P2), not next_position(P1,P2).\n",
    "    :- cell(C1), C1 = c(Row,Col), solution(C1,u),\n",
    "        cell(C2), C2 = c(Row-1,Col),\n",
    "        map(C1,P1), not map(C2,P2), next_position(P1,P2).\n",
    "    \n",
    "    :- cell(C1), C1 = c(Row,Col), solution(C1,d),\n",
    "        cell(C2), C2 = c(Row+1,Col),\n",
    "        map(C1,P1), map(C2,P2), not next_position(P1,P2).\n",
    "    :- cell(C1), C1 = c(Row,Col), solution(C1,d),\n",
    "        cell(C2), C2 = c(Row+1,Col),\n",
    "        map(C1,P1), not map(C2,P2), next_position(P1,P2).\n",
    "\"\"\""
   ]
  },
  {
   "cell_type": "code",
   "execution_count": 3,
   "metadata": {},
   "outputs": [
    {
     "name": "stdout",
     "output_type": "stream",
     "text": [
      "........................\n",
      "Stopped after solving timeout..\n",
      "Solving time: 58.08 seconds\n",
      "\n"
     ]
    }
   ],
   "source": [
    "puzzle.generate(\n",
    "    verbose=True,\n",
    "    precompute_solution=False,\n",
    ")"
   ]
  },
  {
   "cell_type": "code",
   "execution_count": 4,
   "metadata": {},
   "outputs": [
    {
     "name": "stdout",
     "output_type": "stream",
     "text": [
      "|_|_|_|_|_|_|_|_|\n",
      "|^|_|^|<|_|^|_|<|\n",
      "|_|_|_|_|>|_|_|_|\n",
      "|_|_|_|_|_|_|_|_|\n"
     ]
    }
   ],
   "source": [
    "print(puzzle.pretty_repr_puzzle())"
   ]
  },
  {
   "cell_type": "code",
   "execution_count": 5,
   "metadata": {},
   "outputs": [
    {
     "name": "stdout",
     "output_type": "stream",
     "text": [
      "|>|v|>|>|v|>|>|v|\n",
      "|^|v|^|<|v|^|v|<|\n",
      "|^|>|>|^|>|^|>|v|\n",
      "|^|<|<|<|<|<|<|<|\n"
     ]
    }
   ],
   "source": [
    "print(puzzle.pretty_repr_solution())"
   ]
  },
  {
   "cell_type": "code",
   "execution_count": null,
   "metadata": {},
   "outputs": [],
   "source": []
  }
 ],
 "metadata": {
  "kernelspec": {
   "display_name": "Python 3 (ipykernel)",
   "language": "python",
   "name": "python3"
  },
  "language_info": {
   "codemirror_mode": {
    "name": "ipython",
    "version": 3
   },
   "file_extension": ".py",
   "mimetype": "text/x-python",
   "name": "python",
   "nbconvert_exporter": "python",
   "pygments_lexer": "ipython3",
   "version": "3.9.12"
  }
 },
 "nbformat": 4,
 "nbformat_minor": 4
}
