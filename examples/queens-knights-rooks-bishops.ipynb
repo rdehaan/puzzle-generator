{
 "cells": [
  {
   "cell_type": "code",
   "execution_count": 1,
   "metadata": {},
   "outputs": [],
   "source": [
    "import os\n",
    "os.chdir('..')\n",
    "\n",
    "from puzzle_generator import *"
   ]
  },
  {
   "cell_type": "code",
   "execution_count": 2,
   "metadata": {},
   "outputs": [],
   "source": [
    "width = 6\n",
    "height = 6\n",
    "puzzle = RectangularPuzzle(\n",
    "    width=width,\n",
    "    height=height\n",
    ")\n",
    "\n",
    "puzzle.solving_timeout = 30\n",
    "\n",
    "puzzle.naming = {\n",
    "    None: '_',\n",
    "    'e': ' ',\n",
    "    'q': 'Q',\n",
    "    'k': 'K',\n",
    "    'r': 'R',\n",
    "    'b': 'B',\n",
    "}\n",
    "\n",
    "puzzle.domain_program += \"\"\"\n",
    "    #const num_attacks_per_piece=2.\n",
    "    value(e;q;k;r;b).\n",
    "    1 { guessed_number(num_knights,2..12) } 1.\n",
    "    1 { guessed_number(num_queens,2..12) } 1.\n",
    "    1 { guessed_number(num_rooks,2..12) } 1.\n",
    "    1 { guessed_number(num_bishops,2..12) } 1.\n",
    "    guessed_number('num_attacks_per_piece',num_attacks_per_piece).\n",
    "\"\"\"\n",
    "\n",
    "puzzle.puzzle_program += \"\"\"\n",
    "    { puzzle(C,V) : cell(C), value(V) }.\n",
    "    #minimize { 1,puzzle(C,V) : puzzle(C,V) }.\n",
    "    :- puzzle(C,e), cell(C).\n",
    "    :- guessed_number(num_knights,N),\n",
    "        N { puzzle(C,k) } N.\n",
    "    :- guessed_number(num_queens,N),\n",
    "        N { puzzle(C,q) } N.\n",
    "    :- guessed_number(num_rooks,N),\n",
    "        N { puzzle(C,r) } N.\n",
    "    :- guessed_number(num_bishops,N),\n",
    "        N { puzzle(C,b) } N.\n",
    "\"\"\"\n",
    "\n",
    "puzzle.solution_program += enc_library['knights_move']\n",
    "puzzle.solution_program += enc_library['queens_move']\n",
    "puzzle.solution_program += enc_library['rooks_move']\n",
    "puzzle.solution_program += enc_library['bishops_move']\n",
    "puzzle.solution_program += \"\"\"\n",
    "    :- guessed_number(num_knights,N),\n",
    "        not N { solution(C,k) } N.\n",
    "    :- guessed_number(num_queens,N),\n",
    "        not N { solution(C,q) } N.\n",
    "    :- guessed_number(num_rooks,N),\n",
    "        not N { solution(C,r) } N.\n",
    "    :- guessed_number(num_bishops,N),\n",
    "        not N { solution(C,b) } N.\n",
    "    piece_attacks(C1,C2) :-\n",
    "        solution(C1,k), knights_move(C1,C2).\n",
    "    piece_attacks(C1,C2) :-\n",
    "        solution(C1,q), queens_move(C1,C2).\n",
    "    piece_attacks(C1,C2) :-\n",
    "        solution(C1,r), rooks_move(C1,C2).\n",
    "    piece_attacks(C1,C2) :-\n",
    "        solution(C1,b), bishops_move(C1,C2).\n",
    "    :- solution(C1,P), P != e,\n",
    "        N = num_attacks_per_piece,\n",
    "        not N { piece_attacks(C2,C1) } N.\n",
    "\"\"\""
   ]
  },
  {
   "cell_type": "code",
   "execution_count": 3,
   "metadata": {},
   "outputs": [
    {
     "name": "stdout",
     "output_type": "stream",
     "text": [
      "....\n",
      "Stopped after solving timeout..\n",
      "Solving time: 30.79 seconds\n",
      "\n"
     ]
    }
   ],
   "source": [
    "puzzle.generate(\n",
    "    verbose=True,\n",
    "    precompute_solution=False,\n",
    ")"
   ]
  },
  {
   "cell_type": "code",
   "execution_count": 4,
   "metadata": {},
   "outputs": [
    {
     "name": "stdout",
     "output_type": "stream",
     "text": [
      "|_|_|_|_|_|_|\n",
      "|_|_|_|_|_|_|\n",
      "|_|_|Q|Q|_|_|\n",
      "|_|_|Q|_|_|_|\n",
      "|_|_|_|_|_|_|\n",
      "|R|Q|_|_|_|B|\n",
      "\n",
      "'num_attacks_per_piece' = 2\n",
      "num_bishops = 3\n",
      "num_rooks = 3\n",
      "num_queens = 5\n",
      "num_knights = 2\n"
     ]
    }
   ],
   "source": [
    "print(puzzle.pretty_repr_puzzle())"
   ]
  },
  {
   "cell_type": "code",
   "execution_count": 5,
   "metadata": {},
   "outputs": [
    {
     "name": "stdout",
     "output_type": "stream",
     "text": [
      "|K| | | | |K|\n",
      "|R| | | | |Q|\n",
      "|B| |Q|Q| | |\n",
      "|B| |Q| | | |\n",
      "| | | | |R| |\n",
      "|R|Q| | | |B|\n"
     ]
    }
   ],
   "source": [
    "print(puzzle.pretty_repr_solution())"
   ]
  },
  {
   "cell_type": "code",
   "execution_count": null,
   "metadata": {},
   "outputs": [],
   "source": []
  }
 ],
 "metadata": {
  "kernelspec": {
   "display_name": "Python 3 (ipykernel)",
   "language": "python",
   "name": "python3"
  },
  "language_info": {
   "codemirror_mode": {
    "name": "ipython",
    "version": 3
   },
   "file_extension": ".py",
   "mimetype": "text/x-python",
   "name": "python",
   "nbconvert_exporter": "python",
   "pygments_lexer": "ipython3",
   "version": "3.9.12"
  }
 },
 "nbformat": 4,
 "nbformat_minor": 4
}
