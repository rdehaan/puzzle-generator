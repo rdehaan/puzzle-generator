{
 "cells": [
  {
   "cell_type": "code",
   "execution_count": 1,
   "metadata": {},
   "outputs": [],
   "source": [
    "import os\n",
    "os.chdir('..')\n",
    "\n",
    "from puzzle_generator import *"
   ]
  },
  {
   "cell_type": "code",
   "execution_count": 2,
   "metadata": {},
   "outputs": [],
   "source": [
    "width = 8\n",
    "height = 6\n",
    "puzzle = RectangularPuzzle(\n",
    "    width=width,\n",
    "    height=height\n",
    ")\n",
    "\n",
    "puzzle.solving_timeout = 60\n",
    "\n",
    "puzzle.naming = {\n",
    "    None: ' ',\n",
    "    's': '.',\n",
    "    'e': ' ',\n",
    "    'k': 'K',\n",
    "    'n': '.',\n",
    "}\n",
    "\n",
    "puzzle.domain_program += \"\"\"\n",
    "    value(k;n;e).\n",
    "    puzzle_value(s).\n",
    "    value(V) :- puzzle_value(V).\n",
    "    #const num_cells=board_width*board_height.\n",
    "    1 { guessed_number(num_knights,num_cells/6..num_cells/4) } 1.\n",
    "\"\"\"\n",
    "\n",
    "puzzle.puzzle_gen_program = \"\"\"\n",
    "    { puzzle(C,V) : cell(C), puzzle_value(V) }.\n",
    "\"\"\"\n",
    "puzzle.puzzle_constraints_program = \"\"\"\n",
    "    #maximize { 1,puzzle(C,V) : puzzle(C,V) }.\n",
    "    \n",
    "    :- puzzle(C1,s), not puzzle(C2,s) : knights_move(C1,C2).\n",
    "    \n",
    "    :- guessed_number(num_knights,N),\n",
    "        N { puzzle(C,s) : puzzle(C,s) } N.\n",
    "\"\"\"\n",
    "\n",
    "puzzle.solution_program = \"\"\"\n",
    "    1 { solution(C,V) : value(V) } 1 :- cell(C).\n",
    "\"\"\"\n",
    "puzzle.solution_program += enc_library['knights_move']\n",
    "puzzle.solution_program += \"\"\"\n",
    "    :- solution(C,(k;n)), not puzzle(C,s).\n",
    "    :- solution(C,e), puzzle(C,s).\n",
    "\n",
    "    :- solution(C,V), puzzle_value(V).\n",
    "    :- solution(C1,n),\n",
    "        not solution(C2,k) : knights_move(C1,C2).\n",
    "    :- solution(C1,k), solution(C2,k), knights_move(C1,C2).\n",
    "    :- guessed_number(num_knights,N),\n",
    "        not N { solution(C,k) : solution(C,k) } N.\n",
    "\"\"\""
   ]
  },
  {
   "cell_type": "code",
   "execution_count": 3,
   "metadata": {},
   "outputs": [
    {
     "name": "stdout",
     "output_type": "stream",
     "text": [
      ".\n",
      "Stopped after solving timeout..\n",
      "Solving time: 60.17 seconds\n",
      "\n"
     ]
    }
   ],
   "source": [
    "puzzle.generate(\n",
    "    verbose=True,\n",
    "    precompute_solution=False,\n",
    ")"
   ]
  },
  {
   "cell_type": "code",
   "execution_count": 4,
   "metadata": {},
   "outputs": [
    {
     "name": "stdout",
     "output_type": "stream",
     "text": [
      "| | |.| | | | |.|\n",
      "| | | | | |.|.| |\n",
      "| | | |.| | |.|.|\n",
      "| |.| | |.|.|.|.|\n",
      "| | |.| |.| | | |\n",
      "| | |.| | | | | |\n",
      "\n",
      "num_knights = 8\n"
     ]
    }
   ],
   "source": [
    "print(puzzle.pretty_repr_puzzle())"
   ]
  },
  {
   "cell_type": "code",
   "execution_count": 5,
   "metadata": {},
   "outputs": [
    {
     "name": "stdout",
     "output_type": "stream",
     "text": [
      "| | |K| | | | |.|\n",
      "| | | | | |K|.| |\n",
      "| | | |.| | |K|.|\n",
      "| |K| | |.|K|.|K|\n",
      "| | |K| |K| | | |\n",
      "| | |.| | | | | |\n"
     ]
    }
   ],
   "source": [
    "print(puzzle.pretty_repr_solution())"
   ]
  },
  {
   "cell_type": "code",
   "execution_count": null,
   "metadata": {},
   "outputs": [],
   "source": []
  }
 ],
 "metadata": {
  "kernelspec": {
   "display_name": "Python 3 (ipykernel)",
   "language": "python",
   "name": "python3"
  },
  "language_info": {
   "codemirror_mode": {
    "name": "ipython",
    "version": 3
   },
   "file_extension": ".py",
   "mimetype": "text/x-python",
   "name": "python",
   "nbconvert_exporter": "python",
   "pygments_lexer": "ipython3",
   "version": "3.9.12"
  }
 },
 "nbformat": 4,
 "nbformat_minor": 4
}
