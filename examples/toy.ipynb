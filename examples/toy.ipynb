{
 "cells": [
  {
   "cell_type": "code",
   "execution_count": 1,
   "metadata": {},
   "outputs": [],
   "source": [
    "import os\n",
    "os.chdir('..')\n",
    "\n",
    "from puzzle_generator import *"
   ]
  },
  {
   "cell_type": "code",
   "execution_count": 2,
   "metadata": {},
   "outputs": [],
   "source": [
    "width = 4\n",
    "height = 3\n",
    "puzzle = RectangularPuzzle(\n",
    "    width=width,\n",
    "    height=height\n",
    ")\n",
    "\n",
    "puzzle.solving_timeout = 10\n",
    "\n",
    "naming_len = len(str(width*height))\n",
    "puzzle.naming = {\n",
    "    None: ' '*naming_len,\n",
    "}\n",
    "for i in range(1, width*height+1):\n",
    "    i_len = len(str(i))\n",
    "    diff_len = naming_len-i_len\n",
    "    puzzle.naming[str(i)] = \" \"*diff_len+str(i)\n",
    "\n",
    "puzzle.domain_program += f\"\"\"\n",
    "    num(1..board_width*board_height).\n",
    "    value(N) :- num(N).\n",
    "\"\"\"\n",
    "\n",
    "puzzle.puzzle_gen_program += \"\"\"\n",
    "    { puzzle(C,V) : cell(C), value(V) }.\n",
    "\"\"\"\n",
    "puzzle.puzzle_constraints_program += \"\"\"\n",
    "    :- puzzle(C,V1), puzzle(C,V2), value(V1), value(V2), V1 != V2.\n",
    "    #minimize { 1,puzzle(C,V) : puzzle(C,V) }.\n",
    "\"\"\"\n",
    "\n",
    "puzzle.solution_program = \"\"\"\n",
    "    1 { solution(C,V) : value(V) } 1 :- cell(C).\n",
    "    solution(C,V) :- puzzle(C,V).\n",
    "\"\"\"\n",
    "puzzle.solution_program += enc_library['adjacent_cells']\n",
    "\n",
    "puzzle.solution_program += \"\"\"\n",
    "    :- solution(C1,V), solution(C2,V), value(V),\n",
    "        cell(C1), cell(C2), C1 != C2.\n",
    "\n",
    "    adjacent_values(V,V+1) :- value(V), value(V+1).\n",
    "    adjacent_values(V+1,V) :- value(V), value(V+1).\n",
    "    \n",
    "    :- adjacent_cells(C1,C2), adjacent_values(V1,V2),\n",
    "        solution(C1,V1), solution(C2,V2).\n",
    "\"\"\""
   ]
  },
  {
   "cell_type": "code",
   "execution_count": 3,
   "metadata": {},
   "outputs": [
    {
     "name": "stdout",
     "output_type": "stream",
     "text": [
      "Done grounding..\n",
      ".......\n",
      "Stopped after solving timeout..\n",
      "Solving time: 10.12 seconds\n",
      "\n"
     ]
    }
   ],
   "source": [
    "puzzle.generate(\n",
    "    verbose=True,\n",
    "    precompute_solution=False,\n",
    ")"
   ]
  },
  {
   "cell_type": "code",
   "execution_count": 4,
   "metadata": {},
   "outputs": [
    {
     "name": "stdout",
     "output_type": "stream",
     "text": [
      "| 1|  | 9|  |\n",
      "|  | 6|  |  |\n",
      "| 3|  |11| 2|\n"
     ]
    }
   ],
   "source": [
    "print(puzzle.pretty_repr_puzzle())"
   ]
  },
  {
   "cell_type": "code",
   "execution_count": 5,
   "metadata": {},
   "outputs": [
    {
     "name": "stdout",
     "output_type": "stream",
     "text": [
      "| 1|12| 9| 5|\n",
      "|10| 6| 4| 7|\n",
      "| 3| 8|11| 2|\n"
     ]
    }
   ],
   "source": [
    "print(puzzle.pretty_repr_solution())"
   ]
  },
  {
   "cell_type": "code",
   "execution_count": null,
   "metadata": {},
   "outputs": [],
   "source": []
  }
 ],
 "metadata": {
  "kernelspec": {
   "display_name": "Python 3 (ipykernel)",
   "language": "python",
   "name": "python3"
  },
  "language_info": {
   "codemirror_mode": {
    "name": "ipython",
    "version": 3
   },
   "file_extension": ".py",
   "mimetype": "text/x-python",
   "name": "python",
   "nbconvert_exporter": "python",
   "pygments_lexer": "ipython3",
   "version": "3.9.12"
  }
 },
 "nbformat": 4,
 "nbformat_minor": 4
}
