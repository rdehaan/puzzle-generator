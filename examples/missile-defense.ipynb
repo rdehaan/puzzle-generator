{
 "cells": [
  {
   "cell_type": "code",
   "execution_count": 1,
   "metadata": {},
   "outputs": [],
   "source": [
    "import os\n",
    "os.chdir('..')\n",
    "\n",
    "from puzzle_generator import *"
   ]
  },
  {
   "cell_type": "code",
   "execution_count": 2,
   "metadata": {},
   "outputs": [],
   "source": [
    "width = 8\n",
    "height = 8\n",
    "puzzle = RectangularPuzzle(\n",
    "    width=width,\n",
    "    height=height\n",
    ")\n",
    "\n",
    "puzzle.solving_timeout = 300\n",
    "\n",
    "puzzle.naming = {\n",
    "    None: ' ',\n",
    "    'e': '_',\n",
    "}\n",
    "\n",
    "puzzle.domain_program += \"\"\"\n",
    "    1 { guessed_number(num_hit_targets,4..6) } 1.\n",
    "    1 { guessed_number(num_safe_targets,4..6) } 1.\n",
    "    1 { guessed_number(num_missile_sites,4..9) } 1.\n",
    "    1 { guessed_number(num_defense_sites,4..9) } 1.\n",
    "    1 { guessed_number(num_obstacles,0) } 1.\n",
    "    \n",
    "    value(e).\n",
    "    site(h;s;m;d;o).\n",
    "    value(S) :- site(S).\n",
    "\"\"\"\n",
    "\n",
    "puzzle.puzzle_gen_program += \"\"\"\n",
    "    { puzzle(C,V) : solution(C,V) }.\n",
    "\"\"\"\n",
    "puzzle.puzzle_constraints_program += \"\"\"\n",
    "    #minimize { 1,puzzle(C,V) : puzzle(C,V) }.\n",
    "    :- puzzle(C,e).\n",
    "\"\"\"\n",
    "\n",
    "puzzle.solution_program = \"\"\"\n",
    "    1 { solution(C,V) : value(V) } 1 :- cell(C).\n",
    "    solution(C,V) :- puzzle(C,V).\n",
    "\"\"\"\n",
    "puzzle.solution_program += enc_library['ring_around_cell']\n",
    "puzzle.solution_program += enc_library['adjacent_cells']\n",
    "puzzle.solution_program += \"\"\"\n",
    "    :- adjacent_cells(C1,C2), C1 != C2,\n",
    "        solution(C1,V1), solution(C2,V2), site(V1), site(V2).\n",
    "    :- solution(C1,m), ring_around_cell(C1,C2,1), C1 != C2,\n",
    "        solution(C2,S), site(S).\n",
    "\n",
    "    in_range(C1,C2) :-\n",
    "        solution(C1,m), solution(C2,(h;s)),\n",
    "        ring_around_cell(C1,C2,D), D <= 2.\n",
    "    in_range(C1,C2) :-\n",
    "        solution(C1,d), solution(C2,(h;s)),\n",
    "        ring_around_cell(C1,C2,D), D <= 1.\n",
    "    \n",
    "    active(C1,m) :- solution(C1,m), in_range(C1,C2).\n",
    "    1 { targets(C1,C2) : in_range(C1,C2) } 1 :- active(C1,m).\n",
    "    1 { protects(C1,C2) : in_range(C1,C2) } 1 :- solution(C1,d).\n",
    "    \n",
    "    :- solution(C1,d),\n",
    "        not in_range(C1,C2) : solution(C2,h);\n",
    "        not in_range(C1,C2) : solution(C2,s).\n",
    "    \n",
    "    :- solution(C1,h),\n",
    "        A = #count { C2 : targets(C2,C1) },\n",
    "        P = #count { C2 : protects(C2,C1) },\n",
    "        A <= P.\n",
    "    :- solution(C1,s),\n",
    "        A = #count { C2 : targets(C2,C1) },\n",
    "        P = #count { C2 : protects(C2,C1) },\n",
    "        A > P.\n",
    "\n",
    "    :- guessed_number(num_hit_targets,N),\n",
    "        not N { solution(C,h) } N.\n",
    "    :- guessed_number(num_safe_targets,N),\n",
    "        not N { solution(C,s) } N.\n",
    "    :- guessed_number(num_missile_sites,N),\n",
    "        not N { solution(C,m) } N.\n",
    "    :- guessed_number(num_defense_sites,N),\n",
    "        not N { solution(C,d) } N.\n",
    "    :- guessed_number(num_obstacles,N),\n",
    "        not N { solution(C,o) } N.\n",
    "\"\"\""
   ]
  },
  {
   "cell_type": "code",
   "execution_count": 3,
   "metadata": {},
   "outputs": [
    {
     "name": "stdout",
     "output_type": "stream",
     "text": [
      "Done grounding..\n",
      "...........\n",
      "Stopped after solving timeout..\n",
      "Solving time: 376.93 seconds\n",
      "\n"
     ]
    }
   ],
   "source": [
    "puzzle.generate(\n",
    "    verbose=True,\n",
    "    precompute_solution=False,\n",
    ")"
   ]
  },
  {
   "cell_type": "code",
   "execution_count": 4,
   "metadata": {
    "scrolled": false
   },
   "outputs": [
    {
     "name": "stdout",
     "output_type": "stream",
     "text": [
      "| | |s| | | | |m|\n",
      "| | | | | | | | |\n",
      "| | |h| | | |h| |\n",
      "| | | | | |h| |s|\n",
      "| | | | | | |s| |\n",
      "| | | | |h| | |s|\n",
      "| | | | | | |s| |\n",
      "| | | | | |h| | |\n",
      "\n",
      "num_obstacles = 0\n",
      "num_defense_sites = 4\n",
      "num_missile_sites = 5\n",
      "num_safe_targets = 6\n",
      "num_hit_targets = 5\n"
     ]
    }
   ],
   "source": [
    "print(puzzle.pretty_repr_puzzle())"
   ]
  },
  {
   "cell_type": "code",
   "execution_count": 5,
   "metadata": {},
   "outputs": [
    {
     "name": "stdout",
     "output_type": "stream",
     "text": [
      "|_|_|s|_|_|_|_|m|\n",
      "|_|d|_|_|m|_|_|_|\n",
      "|_|_|h|_|_|_|h|_|\n",
      "|m|_|_|_|_|h|_|s|\n",
      "|_|_|m|_|_|_|s|_|\n",
      "|d|_|_|_|h|_|_|s|\n",
      "|_|s|_|_|_|_|s|_|\n",
      "|d|_|_|m|_|h|_|d|\n"
     ]
    }
   ],
   "source": [
    "print(puzzle.pretty_repr_solution())"
   ]
  },
  {
   "cell_type": "code",
   "execution_count": null,
   "metadata": {},
   "outputs": [],
   "source": []
  }
 ],
 "metadata": {
  "kernelspec": {
   "display_name": "Python 3 (ipykernel)",
   "language": "python",
   "name": "python3"
  },
  "language_info": {
   "codemirror_mode": {
    "name": "ipython",
    "version": 3
   },
   "file_extension": ".py",
   "mimetype": "text/x-python",
   "name": "python",
   "nbconvert_exporter": "python",
   "pygments_lexer": "ipython3",
   "version": "3.9.12"
  }
 },
 "nbformat": 4,
 "nbformat_minor": 4
}
