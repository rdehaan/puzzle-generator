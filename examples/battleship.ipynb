{
 "cells": [
  {
   "cell_type": "code",
   "execution_count": 1,
   "metadata": {},
   "outputs": [],
   "source": [
    "import os\n",
    "os.chdir('..')\n",
    "\n",
    "from puzzle_generator import *"
   ]
  },
  {
   "cell_type": "code",
   "execution_count": 2,
   "metadata": {},
   "outputs": [],
   "source": [
    "width = 10\n",
    "height = 10\n",
    "puzzle = RectangularPuzzle(\n",
    "    width=width,\n",
    "    height=height\n",
    ")\n",
    "\n",
    "puzzle.solving_timeout = 30\n",
    "\n",
    "puzzle.naming = {\n",
    "    None: ' ',\n",
    "    'n': ' ',\n",
    "    'e': ' ',\n",
    "    'u': '^',\n",
    "    'd': 'v',\n",
    "    'l': '<',\n",
    "    'r': '>',\n",
    "    'o': 'o',\n",
    "    's': '.',\n",
    "}\n",
    "\n",
    "puzzle.domain_program += \"\"\"\n",
    "    value(e). % empty sea\n",
    "    value(n). % null value\n",
    "    ship_value(u;d;l;r). % ends of long ships\n",
    "    ship_value(o). % middle part of long ships\n",
    "    ship_value(s). % short ships\n",
    "    value(S) :- ship_value(S).\n",
    "    num(0..board_width-1).\n",
    "    num(0..board_height-1).\n",
    "    value(N) :- num(N).\n",
    "    \n",
    "    main_cell(c(Row,Col)) :- cell(c(Row,Col)),\n",
    "        Row < board_height, Col < board_width.\n",
    "    bottom_counting_cell(c(Row,Col)) :- cell(c(Row,Col)),\n",
    "        Row = board_height, Col < board_width.\n",
    "    right_counting_cell(c(Row,Col)) :- cell(c(Row,Col)),\n",
    "        Row < board_height, Col = board_width.\n",
    "    empty_cell(C) :- cell(C),\n",
    "        not main_cell(C),\n",
    "        not bottom_counting_cell(C),\n",
    "        not right_counting_cell(C).\n",
    "    \n",
    "    ship_size(1..4,1).\n",
    "    ship_size(5..7,2).\n",
    "    ship_size(8..9,3).\n",
    "    ship_size(10,4).\n",
    "    ship(S) :- ship_size(S,_).\n",
    "    ship_size(N) :- ship_size(_,N).\n",
    "    long_ship(S) :- ship(S), ship_size(S,N), N > 1.\n",
    "    short_ship(S) :- ship(S), not long_ship(S).\n",
    "    \n",
    "    guessed_number(num_ships_of_length(N),M) :-\n",
    "        ship_size(N),\n",
    "        M = #count { S : ship_size(S,N) }.\n",
    "\"\"\"\n",
    "\n",
    "puzzle.puzzle_program += \"\"\"\n",
    "    { puzzle(C,V) : main_cell(C), solution(C,V) }.\n",
    "    puzzle(C,V) :- solution(C,V), cell(C), not main_cell(C).\n",
    "    :- puzzle(C,s).\n",
    "    #minimize { 1,puzzle(C,V) : puzzle(C,V) }.\n",
    "\"\"\"\n",
    "\n",
    "puzzle.solution_program += \"\"\"\n",
    "    :- main_cell(C), solution(C,V), num(V).\n",
    "    :- empty_cell(C), solution(C,V), V != n.\n",
    "    :- not empty_cell(C), solution(C,n).\n",
    "    :- bottom_counting_cell(C), solution(C,V), not num(V).\n",
    "    :- right_counting_cell(C), solution(C,V), not num(V).\n",
    "    \n",
    "    same_cells(C,C) :- cell(C).\n",
    "    adjacent_cells(c(R1,C1),c(R2,C2)) :-\n",
    "        cell(c(R1,C1)), cell(c(R2,C2)),\n",
    "        |R1-R2| <= 1, |C1-C2| <= 1, not same_cells(c(R1,C1),c(R2,C2)).\n",
    "    \n",
    "    :- right_counting_cell(C), C = c(Row,Col1),\n",
    "        N = #count { C2 : C2 = c(Row,Col2), main_cell(C2), solution(C2,V), ship_value(V) },\n",
    "        not solution(C,N).\n",
    "    :- bottom_counting_cell(C), C = c(Row1,Col),\n",
    "        N = #count { C2 : C2 = c(Row2,Col), main_cell(C2), solution(C2,V), ship_value(V) },\n",
    "        not solution(C,N).\n",
    "    \n",
    "    1 { topleft(S,C) : cell(C) } 1 :- ship(S).\n",
    "    \n",
    "    assigned(C,S) :- ship(S), topleft(S,C).\n",
    "    :- short_ship(S), topleft(S,C), not solution(C,s).\n",
    "    \n",
    "    1 { orientation(S,(h;v)) } 1 :- long_ship(S).\n",
    "    \n",
    "    :- long_ship(S), topleft(S,C), orientation(S,h),\n",
    "        not solution(C,l).\n",
    "    :- long_ship(S), topleft(S,C), orientation(S,h),\n",
    "        ship_size(S,N), C = c(Row,Col),\n",
    "        not main_cell(c(Row,Col+N-1)).\n",
    "    assigned(C2,S) :- long_ship(S), topleft(S,C1), orientation(S,h),\n",
    "        ship_size(S,N), C1 = c(Row,Col), C2 = c(Row,Col+N-1).\n",
    "    assigned(C2,S) :- long_ship(S), topleft(S,C1), orientation(S,h),\n",
    "        ship_size(S,N), C1 = c(Row,Col), C2 = c(Row,Col2),\n",
    "        main_cell(C2), Col < Col2, Col2 < Col+N-1.\n",
    "    :- long_ship(S), topleft(S,C1), orientation(S,h),\n",
    "        ship_size(S,N), C1 = c(Row,Col), C2 = c(Row,Col2),\n",
    "        main_cell(C2), Col < Col2, Col2 < Col+N-1,\n",
    "        not solution(C2,o).\n",
    "    :- long_ship(S), topleft(S,C), orientation(S,h),\n",
    "        ship_size(S,N), C = c(Row,Col),\n",
    "        not solution(c(Row,Col+N-1),r).\n",
    "    \n",
    "    :- long_ship(S), topleft(S,C), orientation(S,v),\n",
    "        not solution(C,u).\n",
    "    :- long_ship(S), topleft(S,C), orientation(S,v),\n",
    "        ship_size(S,N), C = c(Row,Col),\n",
    "        not main_cell(c(Row+N-1,Col)).\n",
    "    assigned(C2,S) :- long_ship(S), topleft(S,C1), orientation(S,v),\n",
    "        ship_size(S,N), C1 = c(Row,Col), C2 = c(Row+N-1,Col).\n",
    "    assigned(C2,S) :- long_ship(S), topleft(S,C1), orientation(S,v),\n",
    "        ship_size(S,N), C1 = c(Row,Col), C2 = c(Row2,Col),\n",
    "        main_cell(C2), Row < Row2, Row2 < Row+N-1.\n",
    "    :- long_ship(S), topleft(S,C1), orientation(S,v),\n",
    "        ship_size(S,N), C1 = c(Row,Col), C2 = c(Row2,Col),\n",
    "        main_cell(C2), Row < Row2, Row2 < Row+N-1,\n",
    "        not solution(C2,o).\n",
    "    :- long_ship(S), topleft(S,C), orientation(S,v),\n",
    "        ship_size(S,N), C = c(Row,Col),\n",
    "        not solution(c(Row+N-1,Col),d).\n",
    "    \n",
    "    :- adjacent_cells(C1,C2),\n",
    "        assigned(C1,S1), assigned(C2,S2), ship(S1), ship(S2), S1 != S2.\n",
    "    :- same_cells(C1,C2),\n",
    "        assigned(C1,S1), assigned(C2,S2), ship(S1), ship(S2), S1 != S2.\n",
    "\n",
    "    :- main_cell(C), solution(C,V), ship_value(V),\n",
    "        not assigned(C,S) : ship(S).\n",
    "\"\"\""
   ]
  },
  {
   "cell_type": "code",
   "execution_count": 3,
   "metadata": {},
   "outputs": [
    {
     "name": "stdout",
     "output_type": "stream",
     "text": [
      "..\n",
      "Stopped after solving timeout..\n",
      "Solving time: 37.11 seconds\n",
      "\n"
     ]
    }
   ],
   "source": [
    "puzzle.generate(\n",
    "    verbose=True,\n",
    "    precompute_solution=False,\n",
    ")"
   ]
  },
  {
   "cell_type": "code",
   "execution_count": 4,
   "metadata": {},
   "outputs": [
    {
     "name": "stdout",
     "output_type": "stream",
     "text": [
      "| | | | | | | | | |4|\n",
      "| | | | | | | | | |2|\n",
      "| | | | | | | | | |2|\n",
      "| | | | | | | | | |1|\n",
      "| | | | | | | | |v|3|\n",
      "| | | | | | | | | |1|\n",
      "| | | | | | | | | |3|\n",
      "| | | | | | | | | |2|\n",
      "| | | | | | | | | |2|\n",
      "|7|0|0|0|0|1|5|0|7| |\n",
      "\n",
      "num_ships_of_length(4) = 1\n",
      "num_ships_of_length(1) = 4\n",
      "num_ships_of_length(2) = 3\n",
      "num_ships_of_length(3) = 2\n"
     ]
    }
   ],
   "source": [
    "print(puzzle.pretty_repr_puzzle())"
   ]
  },
  {
   "cell_type": "code",
   "execution_count": 5,
   "metadata": {},
   "outputs": [
    {
     "name": "stdout",
     "output_type": "stream",
     "text": [
      "|^| | | | |<|>| |^|4|\n",
      "|o| | | | | | | |v|2|\n",
      "|v| | | | | |.| | |2|\n",
      "| | | | | | | | |^|1|\n",
      "|^| | | | | |.| |v|3|\n",
      "|o| | | | | | | | |1|\n",
      "|o| | | | | |.| |^|3|\n",
      "|v| | | | | | | |o|2|\n",
      "| | | | | | |.| |v|2|\n",
      "|7|0|0|0|0|1|5|0|7| |\n"
     ]
    }
   ],
   "source": [
    "print(puzzle.pretty_repr_solution())"
   ]
  },
  {
   "cell_type": "code",
   "execution_count": null,
   "metadata": {},
   "outputs": [],
   "source": []
  }
 ],
 "metadata": {
  "kernelspec": {
   "display_name": "Python 3 (ipykernel)",
   "language": "python",
   "name": "python3"
  },
  "language_info": {
   "codemirror_mode": {
    "name": "ipython",
    "version": 3
   },
   "file_extension": ".py",
   "mimetype": "text/x-python",
   "name": "python",
   "nbconvert_exporter": "python",
   "pygments_lexer": "ipython3",
   "version": "3.9.12"
  }
 },
 "nbformat": 4,
 "nbformat_minor": 4
}
