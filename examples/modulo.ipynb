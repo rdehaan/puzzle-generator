{
 "cells": [
  {
   "cell_type": "code",
   "execution_count": 1,
   "metadata": {},
   "outputs": [],
   "source": [
    "import os\n",
    "os.chdir('..')\n",
    "\n",
    "from puzzle_generator import *"
   ]
  },
  {
   "cell_type": "code",
   "execution_count": 2,
   "metadata": {},
   "outputs": [],
   "source": [
    "width = 6\n",
    "height = 6\n",
    "puzzle = RectangularPuzzle(\n",
    "    width=width,\n",
    "    height=height\n",
    ")\n",
    "\n",
    "puzzle.solving_timeout = 30\n",
    "\n",
    "puzzle.naming = {\n",
    "    None: '_',\n",
    "}\n",
    "\n",
    "puzzle.domain_program += \"\"\"\n",
    "    1 { guessed_number(ortho_modulo,4) } 1.\n",
    "    1 { guessed_number(diag_modulo,3) } 1.\n",
    "    num(0..3).\n",
    "    value(N) :- num(N).\n",
    "\"\"\"\n",
    "\n",
    "puzzle.puzzle_gen_program += \"\"\"\n",
    "    { puzzle(C,V) : cell(C), value(V) }.\n",
    "\"\"\"\n",
    "puzzle.puzzle_constraints_program += \"\"\"\n",
    "    #minimize { 1,puzzle(C,V) : puzzle(C,V) }.\n",
    "\"\"\"\n",
    "\n",
    "puzzle.solution_program = \"\"\"\n",
    "    1 { solution(C,V) : value(V) } 1 :- cell(C).\n",
    "    solution(C,V) :- puzzle(C,V).\n",
    "\"\"\"\n",
    "puzzle.solution_program += enc_library['adjacent_cells']\n",
    "puzzle.solution_program += enc_library['diagonally_adjacent_cells']\n",
    "\n",
    "puzzle.solution_program += \"\"\"\n",
    "    cell_check(C1) :- cell(C1), guessed_number(ortho_modulo,N),\n",
    "        M = #sum { V2,C2 : solution(C2,V2), adjacent_cells(C1,C2) },\n",
    "        solution(C1,V1), V1 = M \\ N.\n",
    "    cell_check(C1) :- cell(C1), guessed_number(diag_modulo,N),\n",
    "        M = #sum { V2,C2 : solution(C2,V2), diagonally_adjacent_cells(C1,C2) },\n",
    "        solution(C1,V1), V1 = M \\ N.\n",
    "    :- cell(C), not cell_check(C).\n",
    "\"\"\""
   ]
  },
  {
   "cell_type": "code",
   "execution_count": 3,
   "metadata": {},
   "outputs": [
    {
     "name": "stdout",
     "output_type": "stream",
     "text": [
      ".......................\n",
      "Stopped after solving timeout..\n",
      "Solving time: 32.19 seconds\n",
      "\n"
     ]
    }
   ],
   "source": [
    "puzzle.generate(\n",
    "    verbose=True,\n",
    "    precompute_solution=False,\n",
    ")"
   ]
  },
  {
   "cell_type": "code",
   "execution_count": 4,
   "metadata": {},
   "outputs": [
    {
     "name": "stdout",
     "output_type": "stream",
     "text": [
      "|3|_|_|_|_|3|\n",
      "|_|1|_|_|_|_|\n",
      "|3|_|3|3|_|_|\n",
      "|2|_|2|_|1|_|\n",
      "|_|_|_|_|_|_|\n",
      "|_|_|1|_|2|_|\n",
      "\n",
      "ortho_modulo = 4\n",
      "diag_modulo = 3\n"
     ]
    }
   ],
   "source": [
    "print(puzzle.pretty_repr_puzzle())"
   ]
  },
  {
   "cell_type": "code",
   "execution_count": 5,
   "metadata": {},
   "outputs": [
    {
     "name": "stdout",
     "output_type": "stream",
     "text": [
      "|3|0|1|0|0|3|\n",
      "|3|1|0|3|0|3|\n",
      "|3|2|3|3|0|0|\n",
      "|2|3|2|1|1|1|\n",
      "|0|1|3|3|1|1|\n",
      "|1|3|1|2|2|3|\n"
     ]
    }
   ],
   "source": [
    "print(puzzle.pretty_repr_solution())"
   ]
  },
  {
   "cell_type": "code",
   "execution_count": null,
   "metadata": {},
   "outputs": [],
   "source": []
  }
 ],
 "metadata": {
  "kernelspec": {
   "display_name": "Python 3 (ipykernel)",
   "language": "python",
   "name": "python3"
  },
  "language_info": {
   "codemirror_mode": {
    "name": "ipython",
    "version": 3
   },
   "file_extension": ".py",
   "mimetype": "text/x-python",
   "name": "python",
   "nbconvert_exporter": "python",
   "pygments_lexer": "ipython3",
   "version": "3.9.12"
  }
 },
 "nbformat": 4,
 "nbformat_minor": 4
}
