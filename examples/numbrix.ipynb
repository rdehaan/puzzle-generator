{
 "cells": [
  {
   "cell_type": "code",
   "execution_count": 1,
   "metadata": {},
   "outputs": [],
   "source": [
    "import os\n",
    "os.chdir('..')\n",
    "\n",
    "from puzzle_generator import *"
   ]
  },
  {
   "cell_type": "code",
   "execution_count": 2,
   "metadata": {},
   "outputs": [],
   "source": [
    "width = 6\n",
    "height = 6\n",
    "puzzle = RectangularPuzzle(\n",
    "    width=width,\n",
    "    height=height\n",
    ")\n",
    "\n",
    "puzzle.solving_timeout = 30\n",
    "\n",
    "naming_len = len(str(width*height))\n",
    "puzzle.naming = {\n",
    "    None: '_'*naming_len,\n",
    "}\n",
    "for i in range(1, width*height+1):\n",
    "    padding_len = naming_len - len(str(i))\n",
    "    puzzle.naming[str(i)] = f\"{' '*padding_len}{i}\"\n",
    "\n",
    "puzzle.domain_program += f\"\"\"\n",
    "    value(1..board_height*board_width).\n",
    "\"\"\"\n",
    "\n",
    "puzzle.puzzle_program += \"\"\"\n",
    "    { puzzle(C,V) : cell(C), value(V) }.\n",
    "    #minimize { 1,puzzle(C,V) : puzzle(C,V) }.\n",
    "\"\"\"\n",
    "\n",
    "puzzle.solution_program += enc_library['adjacent_cells']\n",
    "puzzle.solution_program += \"\"\"\n",
    "    1 { solution(C,V) : cell(C) } 1 :- value(V).\n",
    "    \n",
    "    :- value(V), solution(C1,V), value(V+1),\n",
    "        solution(C2,V+1), not adjacent_cells(C1,C2).\n",
    "\"\"\""
   ]
  },
  {
   "cell_type": "code",
   "execution_count": 3,
   "metadata": {},
   "outputs": [
    {
     "name": "stdout",
     "output_type": "stream",
     "text": [
      ".......\n",
      "Stopped after solving timeout..\n",
      "Solving time: 35.60 seconds\n",
      "\n"
     ]
    }
   ],
   "source": [
    "puzzle.generate(\n",
    "    verbose=True,\n",
    "    precompute_solution=False,\n",
    ")"
   ]
  },
  {
   "cell_type": "code",
   "execution_count": 4,
   "metadata": {},
   "outputs": [
    {
     "name": "stdout",
     "output_type": "stream",
     "text": [
      "|__|__|__|__|__|__|\n",
      "|__|__|__|__|__|__|\n",
      "|__|__|__| 3|__| 1|\n",
      "|__|__|__|__|__|__|\n",
      "|__|__|__|__|12|__|\n",
      "|17|__|__|__|__|__|\n"
     ]
    }
   ],
   "source": [
    "print(puzzle.pretty_repr_puzzle())"
   ]
  },
  {
   "cell_type": "code",
   "execution_count": 5,
   "metadata": {},
   "outputs": [
    {
     "name": "stdout",
     "output_type": "stream",
     "text": [
      "|22|23|24|25|26|27|\n",
      "|21|32|31|30|29|28|\n",
      "|20|33| 4| 3| 2| 1|\n",
      "|19|34| 5| 6| 7| 8|\n",
      "|18|35|36|13|12| 9|\n",
      "|17|16|15|14|11|10|\n"
     ]
    }
   ],
   "source": [
    "print(puzzle.pretty_repr_solution())"
   ]
  },
  {
   "cell_type": "code",
   "execution_count": null,
   "metadata": {},
   "outputs": [],
   "source": []
  }
 ],
 "metadata": {
  "kernelspec": {
   "display_name": "Python 3 (ipykernel)",
   "language": "python",
   "name": "python3"
  },
  "language_info": {
   "codemirror_mode": {
    "name": "ipython",
    "version": 3
   },
   "file_extension": ".py",
   "mimetype": "text/x-python",
   "name": "python",
   "nbconvert_exporter": "python",
   "pygments_lexer": "ipython3",
   "version": "3.9.12"
  }
 },
 "nbformat": 4,
 "nbformat_minor": 4
}
