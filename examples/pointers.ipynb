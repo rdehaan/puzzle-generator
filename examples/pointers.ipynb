{
 "cells": [
  {
   "cell_type": "code",
   "execution_count": 1,
   "metadata": {},
   "outputs": [],
   "source": [
    "import os\n",
    "os.chdir('..')\n",
    "\n",
    "from puzzle_generator import *"
   ]
  },
  {
   "cell_type": "code",
   "execution_count": 2,
   "metadata": {},
   "outputs": [],
   "source": [
    "width = 5\n",
    "height = 4\n",
    "puzzle = RectangularPuzzle(\n",
    "    width=width,\n",
    "    height=height\n",
    ")\n",
    "\n",
    "puzzle.solving_timeout = 30\n",
    "\n",
    "puzzle.naming = {\n",
    "    None: ' ',\n",
    "    'e': '_',\n",
    "}\n",
    "\n",
    "puzzle.domain_program += \"\"\"\n",
    "    value(e).\n",
    "    num(2..6).\n",
    "    value(N) :- num(N).\n",
    "\"\"\"\n",
    "\n",
    "puzzle.puzzle_gen_program += \"\"\"\n",
    "    { puzzle(C,V) : cell(C), value(V) }.\n",
    "    :- puzzle(C,e), cell(C).\n",
    "\"\"\"\n",
    "puzzle.puzzle_constraints_program += \"\"\"\n",
    "    #minimize { 1,puzzle(C,V) : puzzle(C,V) }.\n",
    "\"\"\"\n",
    "\n",
    "puzzle.solution_program = \"\"\"\n",
    "    1 { solution(C,V) : value(V) } 1 :- cell(C).\n",
    "    solution(C,V) :- puzzle(C,V).\n",
    "\"\"\"\n",
    "puzzle.solution_program += enc_library['cell_distance']\n",
    "puzzle.solution_program += enc_library['adjacent_cells']\n",
    "puzzle.solution_program += \"\"\"\n",
    "    1 { arrow(C1,C2) : cell_distance(C1,C2,D), solution(C2,E), num(E) } 1 :- solution(C1,D), num(D).\n",
    "    :- solution(C1,E), num(E), not 1 { arrow(C2,C1) : solution(C2,D), num(D) } 1.\n",
    "    \n",
    "    :- arrow(C1,C2), arrow(C2,C1).\n",
    "    \n",
    "    :- adjacent_cells(C1,C2), solution(C1,D), num(D), solution(C2,E), num(E).\n",
    "\"\"\""
   ]
  },
  {
   "cell_type": "code",
   "execution_count": 3,
   "metadata": {},
   "outputs": [
    {
     "name": "stdout",
     "output_type": "stream",
     "text": [
      "Done grounding..\n",
      ".....\n",
      "Stopped after solving timeout..\n",
      "Solving time: 32.51 seconds\n",
      "\n"
     ]
    }
   ],
   "source": [
    "puzzle.generate(\n",
    "    verbose=True,\n",
    "    precompute_solution=False,\n",
    ")"
   ]
  },
  {
   "cell_type": "code",
   "execution_count": 4,
   "metadata": {},
   "outputs": [
    {
     "name": "stdout",
     "output_type": "stream",
     "text": [
      "| | |5| | |\n",
      "|3| | | |2|\n",
      "| | | | | |\n",
      "| | | | |5|\n"
     ]
    }
   ],
   "source": [
    "print(puzzle.pretty_repr_puzzle())"
   ]
  },
  {
   "cell_type": "code",
   "execution_count": 5,
   "metadata": {},
   "outputs": [
    {
     "name": "stdout",
     "output_type": "stream",
     "text": [
      "|_|_|5|_|_|\n",
      "|3|_|_|_|2|\n",
      "|_|_|3|_|_|\n",
      "|2|_|_|_|5|\n"
     ]
    }
   ],
   "source": [
    "print(puzzle.pretty_repr_solution())"
   ]
  },
  {
   "cell_type": "code",
   "execution_count": null,
   "metadata": {},
   "outputs": [],
   "source": []
  }
 ],
 "metadata": {
  "kernelspec": {
   "display_name": "Python 3 (ipykernel)",
   "language": "python",
   "name": "python3"
  },
  "language_info": {
   "codemirror_mode": {
    "name": "ipython",
    "version": 3
   },
   "file_extension": ".py",
   "mimetype": "text/x-python",
   "name": "python",
   "nbconvert_exporter": "python",
   "pygments_lexer": "ipython3",
   "version": "3.9.12"
  }
 },
 "nbformat": 4,
 "nbformat_minor": 4
}
