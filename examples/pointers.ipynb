{
 "cells": [
  {
   "cell_type": "code",
   "execution_count": 1,
   "metadata": {},
   "outputs": [],
   "source": [
    "import os\n",
    "os.chdir('..')\n",
    "\n",
    "from puzzle_generator import *"
   ]
  },
  {
   "cell_type": "code",
   "execution_count": 2,
   "metadata": {},
   "outputs": [],
   "source": [
    "width = 6\n",
    "height = 5\n",
    "puzzle = RectangularPuzzle(\n",
    "    width=width,\n",
    "    height=height\n",
    ")\n",
    "\n",
    "puzzle.solving_timeout = 30\n",
    "\n",
    "puzzle.naming = {\n",
    "    None: ' ',\n",
    "    'e': '_',\n",
    "}\n",
    "\n",
    "puzzle.domain_program += \"\"\"\n",
    "    value(e).\n",
    "    num(2..4).\n",
    "    value(N) :- num(N).\n",
    "    1 { guessed_number(num_nums,4..15) } 1.\n",
    "    max_id(N) :- guessed_number(num_nums,N).\n",
    "    id(N) :- max_id(N).\n",
    "    id(N-1) :- id(N), N > 1.\n",
    "\"\"\"\n",
    "\n",
    "puzzle.puzzle_gen_program += \"\"\"\n",
    "    { puzzle(C,V) : solution(C,V) }.\n",
    "    :- puzzle(C,e).\n",
    "\"\"\"\n",
    "puzzle.puzzle_constraints_program += \"\"\"\n",
    "    #maximize { 1,solution(C,V) : solution(C,V), num(V), not puzzle(C,V) }.\n",
    "    :- not solution(C,V) : cell(C), num(V). \n",
    "\"\"\"\n",
    "\n",
    "puzzle.solution_program = \"\"\"\n",
    "    1 { solution(C,V) : value(V) } 1 :- cell(C).\n",
    "    solution(C,V) :- puzzle(C,V).\n",
    "\"\"\"\n",
    "puzzle.solution_program += enc_library['cell_distance']\n",
    "puzzle.solution_program += enc_library['adjacent_cells']\n",
    "puzzle.solution_program += \"\"\"\n",
    "    solution(C) :- solution(C,V), num(V).\n",
    "    first_solution(C1) :- solution(C1), C1 <= C2 : solution(C2).\n",
    "\n",
    "    1 { map(C,I) : id(I) } 1 :- solution(C).\n",
    "    1 { map(C,I) : solution(C) } 1 :- id(I).\n",
    "    :- not map(C,1), first_solution(C).\n",
    "\n",
    "    next_id(I,I+1) :- id(I), id(I+1).\n",
    "    next_id(I,1) :- max_id(I).\n",
    "    :- map(C1,I), map(C2,J), next_id(I,J), solution(C1,D), not cell_distance(C1,C2,D).\n",
    "    \n",
    "    forbidden_pair(D,E) :- num(D), num(E), |D-E| > 1.\n",
    "    :- map(C1,I), map(C2,J), next_id(I,J),\n",
    "        solution(C1,D), solution(C2,E), forbidden_pair(D,E).\n",
    "    \n",
    "    :- guessed_number(num_nums,N),\n",
    "        not N { solution(C,V) : solution(C,V), num(V) } N.\n",
    "    \n",
    "    :- adjacent_cells(C1,C2),\n",
    "        solution(C1,D), num(D),\n",
    "        solution(C2,E), num(E).\n",
    "\"\"\""
   ]
  },
  {
   "cell_type": "code",
   "execution_count": 3,
   "metadata": {},
   "outputs": [
    {
     "name": "stdout",
     "output_type": "stream",
     "text": [
      "Done grounding..\n",
      "....\n",
      "Stopped after solving timeout..\n",
      "Solving time: 70.81 seconds\n",
      "\n"
     ]
    }
   ],
   "source": [
    "puzzle.generate(\n",
    "    verbose=True,\n",
    "    precompute_solution=False,\n",
    ")"
   ]
  },
  {
   "cell_type": "code",
   "execution_count": 4,
   "metadata": {},
   "outputs": [
    {
     "name": "stdout",
     "output_type": "stream",
     "text": [
      "|3| |2| |4| |\n",
      "| | | |3| | |\n",
      "| | |2| | | |\n",
      "|4| | | |4| |\n",
      "| |4| | | | |\n",
      "\n",
      "num_nums = 12\n"
     ]
    }
   ],
   "source": [
    "print(puzzle.pretty_repr_puzzle())"
   ]
  },
  {
   "cell_type": "code",
   "execution_count": 5,
   "metadata": {},
   "outputs": [
    {
     "name": "stdout",
     "output_type": "stream",
     "text": [
      "|3|_|2|_|4|_|\n",
      "|_|4|_|3|_|4|\n",
      "|_|_|2|_|_|_|\n",
      "|4|_|_|_|4|_|\n",
      "|_|4|_|3|_|3|\n"
     ]
    }
   ],
   "source": [
    "print(puzzle.pretty_repr_solution())"
   ]
  },
  {
   "cell_type": "code",
   "execution_count": null,
   "metadata": {},
   "outputs": [],
   "source": []
  }
 ],
 "metadata": {
  "kernelspec": {
   "display_name": "Python 3 (ipykernel)",
   "language": "python",
   "name": "python3"
  },
  "language_info": {
   "codemirror_mode": {
    "name": "ipython",
    "version": 3
   },
   "file_extension": ".py",
   "mimetype": "text/x-python",
   "name": "python",
   "nbconvert_exporter": "python",
   "pygments_lexer": "ipython3",
   "version": "3.9.12"
  }
 },
 "nbformat": 4,
 "nbformat_minor": 4
}
