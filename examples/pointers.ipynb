{
 "cells": [
  {
   "cell_type": "code",
   "execution_count": 1,
   "metadata": {},
   "outputs": [],
   "source": [
    "import os\n",
    "os.chdir('..')\n",
    "\n",
    "from puzzle_generator import *"
   ]
  },
  {
   "cell_type": "code",
   "execution_count": 2,
   "metadata": {},
   "outputs": [],
   "source": [
    "width = 6\n",
    "height = 5\n",
    "puzzle = RectangularPuzzle(\n",
    "    width=width,\n",
    "    height=height\n",
    ")\n",
    "\n",
    "puzzle.solving_timeout = 600\n",
    "\n",
    "puzzle.naming = {\n",
    "    None: ' ',\n",
    "    'e': '_',\n",
    "}\n",
    "puzzle.latex_naming = {\n",
    "    None: ' ',\n",
    "    'e': ' ',\n",
    "    '2': '\\\\Large \\\\ensuremath{2}',\n",
    "    '3': '\\\\Large \\\\ensuremath{3}',\n",
    "    '4': '\\\\Large \\\\ensuremath{4}',\n",
    "    'num_nums': '{\\\\large \\#}',\n",
    "}\n",
    "\n",
    "puzzle.domain_program += \"\"\"\n",
    "    value(e).\n",
    "    num(2..4).\n",
    "    value(N) :- num(N).\n",
    "    \n",
    "    1 { guessed_number(num_nums,4..14) } 1.\n",
    "    max_id(N) :- guessed_number(num_nums,N).\n",
    "    id(N) :- max_id(N).\n",
    "    id(N-1) :- id(N), N > 1.\n",
    "\"\"\"\n",
    "\n",
    "puzzle.puzzle_gen_program += \"\"\"\n",
    "    { puzzle(C,V) : solution(C,V) }.\n",
    "    :- puzzle(C,e).\n",
    "\"\"\"\n",
    "puzzle.puzzle_constraints_program += \"\"\"\n",
    "    #maximize { 1,solution(C,V) : solution(C,V), num(V), not puzzle(C,V) }.\n",
    "    :- not solution(C,V) : cell(C), num(V).\n",
    "    :- not #count { puzzle(C,V) : puzzle(C,V) } >= 3.\n",
    "\"\"\"\n",
    "\n",
    "puzzle.solution_program = \"\"\"\n",
    "    1 { solution(C,V) : value(V) } 1 :- cell(C).\n",
    "    solution(C,V) :- puzzle(C,V).\n",
    "\"\"\"\n",
    "puzzle.solution_program += enc_library['cell_distance']\n",
    "puzzle.solution_program += enc_library['adjacent_cells']\n",
    "puzzle.solution_program += \"\"\"\n",
    "    solution(C) :- solution(C,V), num(V).\n",
    "    first_solution(C1) :- solution(C1), C1 <= C2 : solution(C2).\n",
    "\n",
    "    1 { map(C,I) : id(I) } 1 :- solution(C).\n",
    "    1 { map(C,I) : solution(C) } 1 :- id(I).\n",
    "    :- not map(C,1), first_solution(C).\n",
    "\n",
    "    next_id(I,I+1) :- id(I), id(I+1).\n",
    "    next_id(I,1) :- max_id(I).\n",
    "    :- map(C1,I), map(C2,J), next_id(I,J), solution(C1,D), not cell_distance(C1,C2,D).\n",
    "    \n",
    "    :- adjacent_cells(C1,C2),\n",
    "        solution(C1,D), num(D),\n",
    "        solution(C2,E), num(E).\n",
    "    \n",
    "    :- guessed_number(num_nums,N),\n",
    "        not N { solution(C,V) : solution(C,V), num(V) } N.\n",
    "\"\"\"\n",
    "puzzle.essential_solution_constraints = [\n",
    "    \"\"\"\n",
    "    forbidden_cell_triple(C1,C2,C3) :-\n",
    "        cell(C1), cell(C2), cell(C3),\n",
    "        C1 = c(Row1,Col1), C2 = c(Row2,Col2), C3 = c(Row3,Col3),\n",
    "        Row1 < Row2, Row2 < Row3,\n",
    "        Col1 < Col2, Col2 < Col3.\n",
    "    forbidden_cell_triple(C1,C2,C3) :-\n",
    "        cell(C1), cell(C2), cell(C3),\n",
    "        C1 = c(Row1,Col1), C2 = c(Row2,Col2), C3 = c(Row3,Col3),\n",
    "        Row1 < Row2, Row2 < Row3,\n",
    "        Col1 > Col2, Col2 > Col3.\n",
    "    forbidden_cell_triple(C1,C2,C3) :-\n",
    "        cell(C1), cell(C2), cell(C3),\n",
    "        C1 = c(Row,Col1), C2 = c(Row,Col2), C3 = c(Row,Col3),\n",
    "        Col1 < Col2, Col2 < Col3.\n",
    "    forbidden_cell_triple(C1,C2,C3) :-\n",
    "        cell(C1), cell(C2), cell(C3),\n",
    "        C1 = c(Row1,Col), C2 = c(Row2,Col), C3 = c(Row3,Col),\n",
    "        Row1 < Row2, Row2 < Row3.\n",
    "    forbidden_cell_triple(C1,C2,C3) :- forbidden_cell_triple(C3,C2,C1).\n",
    "    :- next_id(I1,I2), next_id(I2,I3),\n",
    "        map(C1,I1), map(C2,I2), map(C3,I3),\n",
    "        forbidden_cell_triple(C1,C2,C3).\n",
    "    \"\"\",\n",
    "    \"\"\"\n",
    "    forbidden_pair(D,E) :- num(D), num(E), |D-E| > 1.\n",
    "    :- map(C1,I), map(C2,J), next_id(I,J),\n",
    "        solution(C1,D), solution(C2,E), forbidden_pair(D,E).\n",
    "    \"\"\",\n",
    "]"
   ]
  },
  {
   "cell_type": "code",
   "execution_count": 3,
   "metadata": {},
   "outputs": [
    {
     "name": "stdout",
     "output_type": "stream",
     "text": [
      "Done grounding..\n",
      "...\n",
      "Stopped after solving timeout..\n",
      "Solving time: 2328.66 seconds\n",
      "\n"
     ]
    }
   ],
   "source": [
    "puzzle.generate(\n",
    "    verbose=True,\n",
    "    precompute_solution=False,\n",
    "    enforce_essential_constraints=True,\n",
    ")"
   ]
  },
  {
   "cell_type": "code",
   "execution_count": 4,
   "metadata": {},
   "outputs": [
    {
     "name": "stdout",
     "output_type": "stream",
     "text": [
      "| | | | |2| |\n",
      "|4| |4| | | |\n",
      "| | | | | | |\n",
      "| | |3| | | |\n",
      "| | | | |2| |\n",
      "\n",
      "num_nums = 11\n"
     ]
    }
   ],
   "source": [
    "print(puzzle.pretty_repr_puzzle())"
   ]
  },
  {
   "cell_type": "code",
   "execution_count": 5,
   "metadata": {},
   "outputs": [
    {
     "name": "stdout",
     "output_type": "stream",
     "text": [
      "|_|3|_|_|2|_|\n",
      "|4|_|4|_|_|3|\n",
      "|_|2|_|_|3|_|\n",
      "|_|_|3|_|_|2|\n",
      "|_|4|_|_|2|_|\n"
     ]
    }
   ],
   "source": [
    "print(puzzle.pretty_repr_solution())"
   ]
  },
  {
   "cell_type": "code",
   "execution_count": 6,
   "metadata": {},
   "outputs": [
    {
     "name": "stdout",
     "output_type": "stream",
     "text": [
      "\n",
      "\\begin{tikzpicture}[scale=1]\n",
      "  \\begin{scope}\n",
      "    \\draw (0,0) grid (6,5);\n",
      "    \\draw[ultra thick]\n",
      "      (0,0) rectangle (6,5);\n",
      "      \\node[anchor=center] (1;1) at (0.5,4.5) { };\n",
      "      \\node[anchor=center] (1;2) at (1.5,4.5) { };\n",
      "      \\node[anchor=center] (1;3) at (2.5,4.5) { };\n",
      "      \\node[anchor=center] (1;4) at (3.5,4.5) { };\n",
      "      \\node[anchor=center] (1;5) at (4.5,4.5) {\\Large \\ensuremath{2}};\n",
      "      \\node[anchor=center] (1;6) at (5.5,4.5) { };\n",
      "      \\node[anchor=center] (2;1) at (0.5,3.5) {\\Large \\ensuremath{4}};\n",
      "      \\node[anchor=center] (2;2) at (1.5,3.5) { };\n",
      "      \\node[anchor=center] (2;3) at (2.5,3.5) {\\Large \\ensuremath{4}};\n",
      "      \\node[anchor=center] (2;4) at (3.5,3.5) { };\n",
      "      \\node[anchor=center] (2;5) at (4.5,3.5) { };\n",
      "      \\node[anchor=center] (2;6) at (5.5,3.5) { };\n",
      "      \\node[anchor=center] (3;1) at (0.5,2.5) { };\n",
      "      \\node[anchor=center] (3;2) at (1.5,2.5) { };\n",
      "      \\node[anchor=center] (3;3) at (2.5,2.5) { };\n",
      "      \\node[anchor=center] (3;4) at (3.5,2.5) { };\n",
      "      \\node[anchor=center] (3;5) at (4.5,2.5) { };\n",
      "      \\node[anchor=center] (3;6) at (5.5,2.5) { };\n",
      "      \\node[anchor=center] (4;1) at (0.5,1.5) { };\n",
      "      \\node[anchor=center] (4;2) at (1.5,1.5) { };\n",
      "      \\node[anchor=center] (4;3) at (2.5,1.5) {\\Large \\ensuremath{3}};\n",
      "      \\node[anchor=center] (4;4) at (3.5,1.5) { };\n",
      "      \\node[anchor=center] (4;5) at (4.5,1.5) { };\n",
      "      \\node[anchor=center] (4;6) at (5.5,1.5) { };\n",
      "      \\node[anchor=center] (5;1) at (0.5,0.5) { };\n",
      "      \\node[anchor=center] (5;2) at (1.5,0.5) { };\n",
      "      \\node[anchor=center] (5;3) at (2.5,0.5) { };\n",
      "      \\node[anchor=center] (5;4) at (3.5,0.5) { };\n",
      "      \\node[anchor=center] (5;5) at (4.5,0.5) {\\Large \\ensuremath{2}};\n",
      "      \\node[anchor=center] (5;6) at (5.5,0.5) { };\n",
      "  \\end{scope}\n",
      "\\end{tikzpicture}\n",
      "\\\\\n",
      "{\\large \\#}: 11\n"
     ]
    }
   ],
   "source": [
    "print(puzzle.latex_repr_puzzle())"
   ]
  },
  {
   "cell_type": "code",
   "execution_count": 7,
   "metadata": {},
   "outputs": [
    {
     "name": "stdout",
     "output_type": "stream",
     "text": [
      "\n",
      "\\begin{tikzpicture}[scale=1]\n",
      "  \\begin{scope}\n",
      "    \\draw (0,0) grid (6,5);\n",
      "    \\draw[ultra thick]\n",
      "      (0,0) rectangle (6,5);\n",
      "      \\node[anchor=center] (1;1) at (0.5,4.5) { };\n",
      "      \\node[anchor=center] (1;2) at (1.5,4.5) {\\Large \\ensuremath{3}};\n",
      "      \\node[anchor=center] (1;3) at (2.5,4.5) { };\n",
      "      \\node[anchor=center] (1;4) at (3.5,4.5) { };\n",
      "      \\node[anchor=center] (1;5) at (4.5,4.5) {\\Large \\ensuremath{2}};\n",
      "      \\node[anchor=center] (1;6) at (5.5,4.5) { };\n",
      "      \\node[anchor=center] (2;1) at (0.5,3.5) {\\Large \\ensuremath{4}};\n",
      "      \\node[anchor=center] (2;2) at (1.5,3.5) { };\n",
      "      \\node[anchor=center] (2;3) at (2.5,3.5) {\\Large \\ensuremath{4}};\n",
      "      \\node[anchor=center] (2;4) at (3.5,3.5) { };\n",
      "      \\node[anchor=center] (2;5) at (4.5,3.5) { };\n",
      "      \\node[anchor=center] (2;6) at (5.5,3.5) {\\Large \\ensuremath{3}};\n",
      "      \\node[anchor=center] (3;1) at (0.5,2.5) { };\n",
      "      \\node[anchor=center] (3;2) at (1.5,2.5) {\\Large \\ensuremath{2}};\n",
      "      \\node[anchor=center] (3;3) at (2.5,2.5) { };\n",
      "      \\node[anchor=center] (3;4) at (3.5,2.5) { };\n",
      "      \\node[anchor=center] (3;5) at (4.5,2.5) {\\Large \\ensuremath{3}};\n",
      "      \\node[anchor=center] (3;6) at (5.5,2.5) { };\n",
      "      \\node[anchor=center] (4;1) at (0.5,1.5) { };\n",
      "      \\node[anchor=center] (4;2) at (1.5,1.5) { };\n",
      "      \\node[anchor=center] (4;3) at (2.5,1.5) {\\Large \\ensuremath{3}};\n",
      "      \\node[anchor=center] (4;4) at (3.5,1.5) { };\n",
      "      \\node[anchor=center] (4;5) at (4.5,1.5) { };\n",
      "      \\node[anchor=center] (4;6) at (5.5,1.5) {\\Large \\ensuremath{2}};\n",
      "      \\node[anchor=center] (5;1) at (0.5,0.5) { };\n",
      "      \\node[anchor=center] (5;2) at (1.5,0.5) {\\Large \\ensuremath{4}};\n",
      "      \\node[anchor=center] (5;3) at (2.5,0.5) { };\n",
      "      \\node[anchor=center] (5;4) at (3.5,0.5) { };\n",
      "      \\node[anchor=center] (5;5) at (4.5,0.5) {\\Large \\ensuremath{2}};\n",
      "      \\node[anchor=center] (5;6) at (5.5,0.5) { };\n",
      "  \\end{scope}\n",
      "\\end{tikzpicture}\n",
      "\n"
     ]
    }
   ],
   "source": [
    "print(puzzle.latex_repr_solution())"
   ]
  },
  {
   "cell_type": "code",
   "execution_count": null,
   "metadata": {},
   "outputs": [],
   "source": []
  }
 ],
 "metadata": {
  "kernelspec": {
   "display_name": "Python 3 (ipykernel)",
   "language": "python",
   "name": "python3"
  },
  "language_info": {
   "codemirror_mode": {
    "name": "ipython",
    "version": 3
   },
   "file_extension": ".py",
   "mimetype": "text/x-python",
   "name": "python",
   "nbconvert_exporter": "python",
   "pygments_lexer": "ipython3",
   "version": "3.9.12"
  }
 },
 "nbformat": 4,
 "nbformat_minor": 4
}
