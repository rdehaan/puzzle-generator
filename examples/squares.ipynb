{
 "cells": [
  {
   "cell_type": "code",
   "execution_count": 1,
   "metadata": {},
   "outputs": [],
   "source": [
    "import os\n",
    "os.chdir('..')\n",
    "\n",
    "from puzzle_generator import *"
   ]
  },
  {
   "cell_type": "code",
   "execution_count": 2,
   "metadata": {},
   "outputs": [],
   "source": [
    "width = 6\n",
    "height = 5\n",
    "puzzle = RectangularPuzzle(\n",
    "    width=width,\n",
    "    height=height\n",
    ")\n",
    "\n",
    "puzzle.solving_timeout = 90\n",
    "\n",
    "puzzle.naming = {\n",
    "    None: '_',\n",
    "}\n",
    "puzzle.latex_naming = {\n",
    "    None: ' ',\n",
    "    'e': ' ',\n",
    "    'square_sum': '{\\\\scalebox{0.7}{$\\\\square$}}',\n",
    "    'big_square_sum': '{\\\\scalebox{1.0}{$\\\\square$}}',\n",
    "}\n",
    "for i in range(0, 10):\n",
    "    puzzle.latex_naming[str(i)] = f'\\\\Large \\\\ensuremath{{{i}}}'\n",
    "\n",
    "puzzle.domain_program += \"\"\"\n",
    "    num(0..9).\n",
    "    value(N) :- num(N).\n",
    "    #const cell_avg=4.\n",
    "    guessed_number(square_sum,4*cell_avg).\n",
    "    guessed_number(big_square_sum,9*cell_avg).\n",
    "\"\"\"\n",
    "\n",
    "puzzle.puzzle_gen_program += \"\"\"\n",
    "    { puzzle(C,V) : cell(C), value(V) }.\n",
    "\"\"\"\n",
    "puzzle.puzzle_constraints_program += \"\"\"\n",
    "    #minimize { 1,puzzle(C,V) : puzzle(C,V) }.\n",
    "    \n",
    "    :- square_cell(C1), 3 { puzzle(C2,V) : square_rel(C1,C2) } 3.\n",
    "    \n",
    "    :- square_cell(C1), guessed_number(square_sum,S),\n",
    "        #sum { V,puzzle(C2,V) : square_rel(C1,C2), puzzle(C2,V) } = S.\n",
    "\"\"\"\n",
    "\n",
    "puzzle.solution_program = \"\"\"\n",
    "    1 { solution(C,V) : value(V) } 1 :- cell(C).\n",
    "    solution(C,V) :- puzzle(C,V).\n",
    "\"\"\"\n",
    "\n",
    "puzzle.solution_program += \"\"\"\n",
    "    square_cell(c(Row,Col)) :- cell(c(Row,Col)),\n",
    "        Row < board_height,\n",
    "        Col < board_width.\n",
    "    square_rel(c(Row,Col),c(Row,Col)) :- square_cell(c(Row,Col)).\n",
    "    square_rel(c(Row,Col),c(Row,Col+1)) :- square_cell(c(Row,Col)).\n",
    "    square_rel(c(Row,Col),c(Row+1,Col)) :- square_cell(c(Row,Col)).\n",
    "    square_rel(c(Row,Col),c(Row+1,Col+1)) :- square_cell(c(Row,Col)).\n",
    "    square_check(C1) :- square_cell(C1),\n",
    "        guessed_number(square_sum,S),\n",
    "        S = #sum { V2,C2 : solution(C2,V2), square_rel(C1,C2) }.\n",
    "    :- square_cell(C), not square_check(C).\n",
    "\"\"\"\n",
    "puzzle.essential_solution_constraints = [\n",
    "    \"\"\"\n",
    "    rows_diff(Row1,Row2) :- row(Row1), row(Row2), Row1 < Row2,\n",
    "        col(Col), solution(c(Row1,Col),V1), solution(c(Row2,Col),V2),\n",
    "        V1 != V2.\n",
    "    :- row(Row1), row(Row2), Row1 < Row2, not rows_diff(Row1,Row2).\n",
    "\n",
    "    cols_diff(Col1,Col2) :- col(Col1), col(Col2), Col1 < Col2,\n",
    "        row(Row), solution(c(Row,Col1),V1), solution(c(Row,Col2),V2),\n",
    "        V1 != V2.\n",
    "    :- col(Col1), col(Col2), Col1 < Col2, not cols_diff(Col1,Col2).\n",
    "    \"\"\",\n",
    "    \"\"\"\n",
    "    big_square_cell(c(Row,Col)) :- cell(c(Row,Col)),\n",
    "        Row < board_height-1,\n",
    "        Col < board_width-1.\n",
    "    big_square_rel(c(Row1,Col1),c(Row2,Col2)) :-\n",
    "        big_square_cell(c(Row1,Col1)), cell(c(Row2,Col2)),\n",
    "        Row1 <= Row2, Row2 <= Row1+2,\n",
    "        Col1 <= Col2, Col2 <= Col1+2.\n",
    "    big_square_check(C1) :- big_square_cell(C1),\n",
    "        guessed_number(big_square_sum,S),\n",
    "        S = #sum { V2,C2 : solution(C2,V2), big_square_rel(C1,C2) }.\n",
    "    :- big_square_cell(C), not big_square_check(C).\n",
    "    \"\"\",\n",
    "]"
   ]
  },
  {
   "cell_type": "code",
   "execution_count": 3,
   "metadata": {},
   "outputs": [
    {
     "name": "stdout",
     "output_type": "stream",
     "text": [
      "Done grounding..\n",
      "..\n",
      "Stopped after solving timeout..\n",
      "Solving time: 99.49 seconds\n",
      "\n"
     ]
    }
   ],
   "source": [
    "puzzle.generate(\n",
    "    verbose=True,\n",
    "    precompute_solution=False,\n",
    ")"
   ]
  },
  {
   "cell_type": "code",
   "execution_count": 4,
   "metadata": {},
   "outputs": [
    {
     "name": "stdout",
     "output_type": "stream",
     "text": [
      "|_|_|2|_|_|6|\n",
      "|_|_|_|5|_|_|\n",
      "|_|_|_|_|_|_|\n",
      "|_|_|_|_|_|_|\n",
      "|_|_|_|_|_|_|\n",
      "\n",
      "square_sum = 16\n",
      "big_square_sum = 36\n"
     ]
    }
   ],
   "source": [
    "print(puzzle.pretty_repr_puzzle())"
   ]
  },
  {
   "cell_type": "code",
   "execution_count": 5,
   "metadata": {},
   "outputs": [
    {
     "name": "stdout",
     "output_type": "stream",
     "text": [
      "|1|7|2|5|3|6|\n",
      "|5|3|4|5|3|4|\n",
      "|5|3|6|1|7|2|\n",
      "|3|5|2|7|1|6|\n",
      "|3|5|4|3|5|4|\n"
     ]
    }
   ],
   "source": [
    "print(puzzle.pretty_repr_solution())"
   ]
  },
  {
   "cell_type": "code",
   "execution_count": 6,
   "metadata": {},
   "outputs": [
    {
     "name": "stdout",
     "output_type": "stream",
     "text": [
      "\n",
      "\\begin{tikzpicture}[scale=1]\n",
      "  \\begin{scope}\n",
      "    \\draw (0,0) grid (6,5);\n",
      "    \\draw[ultra thick]\n",
      "      (0,0) rectangle (6,5);\n",
      "      \\node[anchor=center] (1;1) at (0.5,4.5) { };\n",
      "      \\node[anchor=center] (1;2) at (1.5,4.5) { };\n",
      "      \\node[anchor=center] (1;3) at (2.5,4.5) {\\Large \\ensuremath{2}};\n",
      "      \\node[anchor=center] (1;4) at (3.5,4.5) { };\n",
      "      \\node[anchor=center] (1;5) at (4.5,4.5) { };\n",
      "      \\node[anchor=center] (1;6) at (5.5,4.5) {\\Large \\ensuremath{6}};\n",
      "      \\node[anchor=center] (2;1) at (0.5,3.5) { };\n",
      "      \\node[anchor=center] (2;2) at (1.5,3.5) { };\n",
      "      \\node[anchor=center] (2;3) at (2.5,3.5) { };\n",
      "      \\node[anchor=center] (2;4) at (3.5,3.5) {\\Large \\ensuremath{5}};\n",
      "      \\node[anchor=center] (2;5) at (4.5,3.5) { };\n",
      "      \\node[anchor=center] (2;6) at (5.5,3.5) { };\n",
      "      \\node[anchor=center] (3;1) at (0.5,2.5) { };\n",
      "      \\node[anchor=center] (3;2) at (1.5,2.5) { };\n",
      "      \\node[anchor=center] (3;3) at (2.5,2.5) { };\n",
      "      \\node[anchor=center] (3;4) at (3.5,2.5) { };\n",
      "      \\node[anchor=center] (3;5) at (4.5,2.5) { };\n",
      "      \\node[anchor=center] (3;6) at (5.5,2.5) { };\n",
      "      \\node[anchor=center] (4;1) at (0.5,1.5) { };\n",
      "      \\node[anchor=center] (4;2) at (1.5,1.5) { };\n",
      "      \\node[anchor=center] (4;3) at (2.5,1.5) { };\n",
      "      \\node[anchor=center] (4;4) at (3.5,1.5) { };\n",
      "      \\node[anchor=center] (4;5) at (4.5,1.5) { };\n",
      "      \\node[anchor=center] (4;6) at (5.5,1.5) { };\n",
      "      \\node[anchor=center] (5;1) at (0.5,0.5) { };\n",
      "      \\node[anchor=center] (5;2) at (1.5,0.5) { };\n",
      "      \\node[anchor=center] (5;3) at (2.5,0.5) { };\n",
      "      \\node[anchor=center] (5;4) at (3.5,0.5) { };\n",
      "      \\node[anchor=center] (5;5) at (4.5,0.5) { };\n",
      "      \\node[anchor=center] (5;6) at (5.5,0.5) { };\n",
      "  \\end{scope}\n",
      "\\end{tikzpicture}\n",
      "\\\\\n",
      "{\\scalebox{0.7}{$\\square$}}: 16 \\quad {\\scalebox{1.0}{$\\square$}}: 36\n"
     ]
    }
   ],
   "source": [
    "print(puzzle.latex_repr_puzzle())"
   ]
  },
  {
   "cell_type": "code",
   "execution_count": 7,
   "metadata": {},
   "outputs": [
    {
     "name": "stdout",
     "output_type": "stream",
     "text": [
      "\n",
      "\\begin{tikzpicture}[scale=1]\n",
      "  \\begin{scope}\n",
      "    \\draw (0,0) grid (6,5);\n",
      "    \\draw[ultra thick]\n",
      "      (0,0) rectangle (6,5);\n",
      "      \\node[anchor=center] (1;1) at (0.5,4.5) {\\Large \\ensuremath{1}};\n",
      "      \\node[anchor=center] (1;2) at (1.5,4.5) {\\Large \\ensuremath{7}};\n",
      "      \\node[anchor=center] (1;3) at (2.5,4.5) {\\Large \\ensuremath{2}};\n",
      "      \\node[anchor=center] (1;4) at (3.5,4.5) {\\Large \\ensuremath{5}};\n",
      "      \\node[anchor=center] (1;5) at (4.5,4.5) {\\Large \\ensuremath{3}};\n",
      "      \\node[anchor=center] (1;6) at (5.5,4.5) {\\Large \\ensuremath{6}};\n",
      "      \\node[anchor=center] (2;1) at (0.5,3.5) {\\Large \\ensuremath{5}};\n",
      "      \\node[anchor=center] (2;2) at (1.5,3.5) {\\Large \\ensuremath{3}};\n",
      "      \\node[anchor=center] (2;3) at (2.5,3.5) {\\Large \\ensuremath{4}};\n",
      "      \\node[anchor=center] (2;4) at (3.5,3.5) {\\Large \\ensuremath{5}};\n",
      "      \\node[anchor=center] (2;5) at (4.5,3.5) {\\Large \\ensuremath{3}};\n",
      "      \\node[anchor=center] (2;6) at (5.5,3.5) {\\Large \\ensuremath{4}};\n",
      "      \\node[anchor=center] (3;1) at (0.5,2.5) {\\Large \\ensuremath{5}};\n",
      "      \\node[anchor=center] (3;2) at (1.5,2.5) {\\Large \\ensuremath{3}};\n",
      "      \\node[anchor=center] (3;3) at (2.5,2.5) {\\Large \\ensuremath{6}};\n",
      "      \\node[anchor=center] (3;4) at (3.5,2.5) {\\Large \\ensuremath{1}};\n",
      "      \\node[anchor=center] (3;5) at (4.5,2.5) {\\Large \\ensuremath{7}};\n",
      "      \\node[anchor=center] (3;6) at (5.5,2.5) {\\Large \\ensuremath{2}};\n",
      "      \\node[anchor=center] (4;1) at (0.5,1.5) {\\Large \\ensuremath{3}};\n",
      "      \\node[anchor=center] (4;2) at (1.5,1.5) {\\Large \\ensuremath{5}};\n",
      "      \\node[anchor=center] (4;3) at (2.5,1.5) {\\Large \\ensuremath{2}};\n",
      "      \\node[anchor=center] (4;4) at (3.5,1.5) {\\Large \\ensuremath{7}};\n",
      "      \\node[anchor=center] (4;5) at (4.5,1.5) {\\Large \\ensuremath{1}};\n",
      "      \\node[anchor=center] (4;6) at (5.5,1.5) {\\Large \\ensuremath{6}};\n",
      "      \\node[anchor=center] (5;1) at (0.5,0.5) {\\Large \\ensuremath{3}};\n",
      "      \\node[anchor=center] (5;2) at (1.5,0.5) {\\Large \\ensuremath{5}};\n",
      "      \\node[anchor=center] (5;3) at (2.5,0.5) {\\Large \\ensuremath{4}};\n",
      "      \\node[anchor=center] (5;4) at (3.5,0.5) {\\Large \\ensuremath{3}};\n",
      "      \\node[anchor=center] (5;5) at (4.5,0.5) {\\Large \\ensuremath{5}};\n",
      "      \\node[anchor=center] (5;6) at (5.5,0.5) {\\Large \\ensuremath{4}};\n",
      "  \\end{scope}\n",
      "\\end{tikzpicture}\n",
      "\n"
     ]
    }
   ],
   "source": [
    "print(puzzle.latex_repr_solution())"
   ]
  }
 ],
 "metadata": {
  "kernelspec": {
   "display_name": "Python 3 (ipykernel)",
   "language": "python",
   "name": "python3"
  },
  "language_info": {
   "codemirror_mode": {
    "name": "ipython",
    "version": 3
   },
   "file_extension": ".py",
   "mimetype": "text/x-python",
   "name": "python",
   "nbconvert_exporter": "python",
   "pygments_lexer": "ipython3",
   "version": "3.9.12"
  }
 },
 "nbformat": 4,
 "nbformat_minor": 4
}
