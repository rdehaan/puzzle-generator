{
 "cells": [
  {
   "cell_type": "code",
   "execution_count": 1,
   "metadata": {},
   "outputs": [],
   "source": [
    "import os\n",
    "os.chdir('..')\n",
    "\n",
    "from puzzle_generator import *"
   ]
  },
  {
   "cell_type": "code",
   "execution_count": 2,
   "metadata": {},
   "outputs": [],
   "source": [
    "width = 8\n",
    "height = 8\n",
    "puzzle = RectangularPuzzle(\n",
    "    width=width,\n",
    "    height=height\n",
    ")\n",
    "\n",
    "puzzle.solving_timeout = 60\n",
    "\n",
    "puzzle.naming = {\n",
    "    None: '_',\n",
    "}\n",
    "\n",
    "puzzle.domain_program += \"\"\"\n",
    "    num(0..9).\n",
    "    value(N) :- num(N).\n",
    "    guessed_number(square_sum_min,12).\n",
    "    guessed_number(square_sum_max,12).\n",
    "\"\"\"\n",
    "\n",
    "puzzle.puzzle_gen_program += \"\"\"\n",
    "    { puzzle(C,V) : cell(C), value(V) }.\n",
    "\"\"\"\n",
    "puzzle.puzzle_constraints_program += \"\"\"\n",
    "    #minimize { 1,puzzle(C,V) : puzzle(C,V) }.\n",
    "    %:- value(V), 4 { solution(C,V) : solution(C,V) }.\n",
    "\"\"\"\n",
    "\n",
    "puzzle.solution_program = \"\"\"\n",
    "    1 { solution(C,V) : value(V) } 1 :- cell(C).\n",
    "    solution(C,V) :- puzzle(C,V).\n",
    "\"\"\"\n",
    "\n",
    "puzzle.solution_program += \"\"\"\n",
    "    square_cell(c(Row,Col)) :- cell(c(Row,Col)),\n",
    "        Row < board_height,\n",
    "        Col < board_width.\n",
    "    square_rel(c(Row,Col),c(Row,Col)) :- square_cell(c(Row,Col)).\n",
    "    square_rel(c(Row,Col),c(Row,Col+1)) :- square_cell(c(Row,Col)).\n",
    "    square_rel(c(Row,Col),c(Row+1,Col)) :- square_cell(c(Row,Col)).\n",
    "    square_rel(c(Row,Col),c(Row+1,Col+1)) :- square_cell(c(Row,Col)).\n",
    "    square_check(C1) :- square_cell(C1),\n",
    "        guessed_number(square_sum_min,Smin),\n",
    "        guessed_number(square_sum_max,Smax),\n",
    "        S = #sum { V2,C2 : solution(C2,V2), square_rel(C1,C2) },\n",
    "        Smin <= S, S <= Smax.\n",
    "    :- square_cell(C), not square_check(C).\n",
    "\"\"\""
   ]
  },
  {
   "cell_type": "code",
   "execution_count": 3,
   "metadata": {},
   "outputs": [
    {
     "name": "stdout",
     "output_type": "stream",
     "text": [
      "..................................................\n",
      "Stopped after solving timeout..\n",
      "Solving time: 61.02 seconds\n",
      "\n"
     ]
    }
   ],
   "source": [
    "puzzle.generate(\n",
    "    verbose=True,\n",
    "    precompute_solution=False,\n",
    ")"
   ]
  },
  {
   "cell_type": "code",
   "execution_count": 4,
   "metadata": {},
   "outputs": [
    {
     "name": "stdout",
     "output_type": "stream",
     "text": [
      "|_|_|_|_|_|_|_|_|\n",
      "|_|_|_|_|_|_|_|2|\n",
      "|_|_|_|_|_|_|_|_|\n",
      "|_|4|8|1|_|1|_|3|\n",
      "|6|_|_|_|7|_|7|_|\n",
      "|_|_|_|_|2|_|_|_|\n",
      "|6|_|_|_|_|_|_|_|\n",
      "|_|_|_|0|_|0|_|_|\n",
      "\n",
      "square_sum_min = 12\n",
      "square_sum_max = 12\n"
     ]
    }
   ],
   "source": [
    "print(puzzle.pretty_repr_puzzle())"
   ]
  },
  {
   "cell_type": "code",
   "execution_count": 5,
   "metadata": {},
   "outputs": [
    {
     "name": "stdout",
     "output_type": "stream",
     "text": [
      "|6|0|0|3|7|3|7|1|\n",
      "|3|3|9|0|2|0|2|2|\n",
      "|6|0|0|3|7|3|7|1|\n",
      "|2|4|8|1|1|1|1|3|\n",
      "|6|0|0|3|7|3|7|1|\n",
      "|3|3|9|0|2|0|2|2|\n",
      "|6|0|0|3|7|3|7|1|\n",
      "|3|3|9|0|2|0|2|2|\n"
     ]
    }
   ],
   "source": [
    "print(puzzle.pretty_repr_solution())"
   ]
  },
  {
   "cell_type": "code",
   "execution_count": null,
   "metadata": {},
   "outputs": [],
   "source": []
  }
 ],
 "metadata": {
  "kernelspec": {
   "display_name": "Python 3 (ipykernel)",
   "language": "python",
   "name": "python3"
  },
  "language_info": {
   "codemirror_mode": {
    "name": "ipython",
    "version": 3
   },
   "file_extension": ".py",
   "mimetype": "text/x-python",
   "name": "python",
   "nbconvert_exporter": "python",
   "pygments_lexer": "ipython3",
   "version": "3.9.12"
  }
 },
 "nbformat": 4,
 "nbformat_minor": 4
}
