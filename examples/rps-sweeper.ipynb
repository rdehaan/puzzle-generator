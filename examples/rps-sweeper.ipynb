{
 "cells": [
  {
   "cell_type": "code",
   "execution_count": 1,
   "metadata": {},
   "outputs": [],
   "source": [
    "import os\n",
    "os.chdir('..')\n",
    "\n",
    "from puzzle_generator import *"
   ]
  },
  {
   "cell_type": "code",
   "execution_count": 2,
   "metadata": {},
   "outputs": [],
   "source": [
    "width = 5\n",
    "height = 5\n",
    "puzzle = RectangularPuzzle(\n",
    "    width=width,\n",
    "    height=height\n",
    ")\n",
    "\n",
    "puzzle.solving_timeout = 300\n",
    "\n",
    "puzzle.naming = {\n",
    "    None: '   ',\n",
    "    'r': ' r ',\n",
    "    'p': ' p ',\n",
    "    's': ' s ',\n",
    "    '0': ' 0 ',\n",
    "    'mine(r)': '[r]',\n",
    "    'mine(p)': '[p]',\n",
    "    'mine(s)': '[s]',\n",
    "}\n",
    "\n",
    "puzzle.domain_program += f\"\"\"\n",
    "    sign(r;p;s).\n",
    "    value(S) :- sign(S).\n",
    "    value(mine(S)) :- sign(S).\n",
    "    value(0).\n",
    "\"\"\"\n",
    "\n",
    "puzzle.puzzle_gen_program += \"\"\"\n",
    "    { puzzle(C,V) : cell(C), value(V) }.\n",
    "    :- puzzle(C,mine(S)), cell(C).\n",
    "    :- puzzle(C,0), cell(C).\n",
    "\"\"\"\n",
    "puzzle.puzzle_constraints_program += \"\"\"\n",
    "    #minimize { 1,puzzle(C,V) : puzzle(C,V) }.\n",
    "    \n",
    "    :- not solution(C,r) : cell(C).\n",
    "    :- not solution(C,p) : cell(C).\n",
    "    :- not solution(C,s) : cell(C).\n",
    "\"\"\"\n",
    "\n",
    "puzzle.solution_program = \"\"\"\n",
    "    1 { solution(C,V) : value(V) } 1 :- cell(C).\n",
    "    solution(C,V) :- puzzle(C,V).\n",
    "\"\"\"\n",
    "puzzle.solution_program += enc_library['ring_around_cell']\n",
    "puzzle.solution_program += \"\"\"\n",
    "    % Count neighboring mines\n",
    "    counts(C,R,P,S) :- cell(C),\n",
    "        R = #count { D : cell(D), D != C, ring_around_cell(C,D,1), solution(D,mine(r)) },\n",
    "        P = #count { D : cell(D), D != C, ring_around_cell(C,D,1), solution(D,mine(p)) },\n",
    "        S = #count { D : cell(D), D != C, ring_around_cell(C,D,1), solution(D,mine(s)) }.\n",
    "    \n",
    "    % If there is a majority of one type of mine, that's the winner\n",
    "    :- counts(C,R,P,S), R > P, R > S, not solution(C,mine(T)) : sign(T); not solution(C,r).\n",
    "    :- counts(C,R,P,S), P > R, P > S, not solution(C,mine(T)) : sign(T); not solution(C,p).\n",
    "    :- counts(C,R,P,S), S > R, S > P, not solution(C,mine(T)) : sign(T); not solution(C,s).\n",
    "    \n",
    "    % If there is a three-way tie, 0 is the winner\n",
    "    :- counts(C,N,N,N), not solution(C,mine(T)) : sign(T); not solution(C,0).\n",
    "    \n",
    "    % If there is a two-way tie, use rock-paper-scissors rules\n",
    "    :- counts(C,R,P,S), R = P, R > S, not solution(C,mine(T)) : sign(T); not solution(C,p).\n",
    "    :- counts(C,R,P,S), R = S, R > P, not solution(C,mine(T)) : sign(T); not solution(C,r).\n",
    "    :- counts(C,R,P,S), P = S, P > R, not solution(C,mine(T)) : sign(T); not solution(C,s).\n",
    "\"\"\"\n",
    "puzzle.essential_solution_constraints = [\n",
    "    \"\"\"\n",
    "    % Equal number of mines of each type\n",
    "    :- R = #count { D : cell(D), solution(D,mine(r)) },\n",
    "        P = #count { D : cell(D), solution(D,mine(p)) },\n",
    "        R != P.\n",
    "    :- R = #count { D : cell(D), solution(D,mine(r)) },\n",
    "        S = #count { D : cell(D), solution(D,mine(s)) },\n",
    "        R != S.\n",
    "    :- P = #count { D : cell(D), solution(D,mine(p)) },\n",
    "        S = #count { D : cell(D), solution(D,mine(s)) },\n",
    "        P != S.\n",
    "    \"\"\",\n",
    "]"
   ]
  },
  {
   "cell_type": "code",
   "execution_count": 3,
   "metadata": {},
   "outputs": [
    {
     "name": "stdout",
     "output_type": "stream",
     "text": [
      "Done grounding..\n",
      "..\n",
      "Stopped after solving timeout..\n",
      "Solving time: 314.58 seconds\n",
      "\n"
     ]
    }
   ],
   "source": [
    "puzzle.generate(\n",
    "    verbose=True,\n",
    "    precompute_solution=False,\n",
    ")"
   ]
  },
  {
   "cell_type": "code",
   "execution_count": 4,
   "metadata": {},
   "outputs": [
    {
     "name": "stdout",
     "output_type": "stream",
     "text": [
      "|   |   | s | p |   |\n",
      "|   |   |   |   | r |\n",
      "|   |   | p | p |   |\n",
      "| r | r | r |   |   |\n",
      "|   | r | r | r | r |\n"
     ]
    }
   ],
   "source": [
    "print(puzzle.pretty_repr_puzzle())"
   ]
  },
  {
   "cell_type": "code",
   "execution_count": 5,
   "metadata": {},
   "outputs": [
    {
     "name": "stdout",
     "output_type": "stream",
     "text": [
      "|[p]|[s]| s | p |[r]|\n",
      "|[p]|[s]|[p]|[p]| r |\n",
      "|[s]| s | p | p |[r]|\n",
      "| r | r | r |[r]|[s]|\n",
      "|[r]| r | r | r | r |\n"
     ]
    }
   ],
   "source": [
    "print(puzzle.pretty_repr_solution())"
   ]
  },
  {
   "cell_type": "code",
   "execution_count": null,
   "metadata": {},
   "outputs": [],
   "source": []
  }
 ],
 "metadata": {
  "kernelspec": {
   "display_name": "Python 3 (ipykernel)",
   "language": "python",
   "name": "python3"
  },
  "language_info": {
   "codemirror_mode": {
    "name": "ipython",
    "version": 3
   },
   "file_extension": ".py",
   "mimetype": "text/x-python",
   "name": "python",
   "nbconvert_exporter": "python",
   "pygments_lexer": "ipython3",
   "version": "3.9.12"
  }
 },
 "nbformat": 4,
 "nbformat_minor": 4
}
