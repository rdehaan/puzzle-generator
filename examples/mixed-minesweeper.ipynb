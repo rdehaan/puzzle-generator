{
 "cells": [
  {
   "cell_type": "code",
   "execution_count": 1,
   "metadata": {},
   "outputs": [],
   "source": [
    "import os\n",
    "os.chdir('..')\n",
    "\n",
    "from puzzle_generator import *"
   ]
  },
  {
   "cell_type": "code",
   "execution_count": 2,
   "metadata": {},
   "outputs": [],
   "source": [
    "width = 6\n",
    "height = 4\n",
    "puzzle = RectangularPuzzle(\n",
    "    width=width,\n",
    "    height=height\n",
    ")\n",
    "\n",
    "puzzle.solving_timeout = 10\n",
    "\n",
    "puzzle.naming = {\n",
    "    None: ' ',\n",
    "    '0': ' ',\n",
    "    'm': '.',\n",
    "    'b': '*',\n",
    "    'h': '-',\n",
    "    'v': '|',\n",
    "}\n",
    "\n",
    "puzzle.latex_naming = {\n",
    "    None: ' ',\n",
    "    '0': ' ',\n",
    "    'm': '\\\\Huge \\\\raisebox{-.5em}{\\\\ensuremath{\\\\cdot}}',\n",
    "    'b': '\\\\Large \\\\ensuremath{\\\\bullet}',\n",
    "    'h': '\\\\Large \\\\raisebox{-.5em}{\\\\textbf{---}}',\n",
    "    'v': '\\\\Large \\\\textbf{|}',\n",
    "}\n",
    "for i in range(1, 25):\n",
    "    puzzle.latex_naming[str(i)] = f'\\\\Large \\\\ensuremath{{{i}}}'\n",
    "\n",
    "puzzle.domain_program += \"\"\"\n",
    "    #const min_num_mines=4.\n",
    "    #const max_num_mines=8.\n",
    "    \n",
    "    1 { guessed_number(num_big_mines,1) } 1.\n",
    "    1 { guessed_number(num_h_mines,1) } 1.\n",
    "    1 { guessed_number(num_v_mines,1) } 1.\n",
    "    \n",
    "    value(m). % regular mines (range 1)\n",
    "    value(b). % big mines (range 2)\n",
    "    value(h;v). % horizontal/vertical mines (range 1)\n",
    "    value(N) :- num(N).\n",
    "    num(0..24). % 24 is the max number of neighboring mines (regular/big)\n",
    "\"\"\"\n",
    "\n",
    "puzzle.puzzle_gen_program += \"\"\"\n",
    "    { puzzle(C,V) : cell(C), value(V) }.\n",
    "    :- puzzle(C,m), cell(C).\n",
    "    :- puzzle(C,b), cell(C).\n",
    "    :- puzzle(C,h), cell(C).\n",
    "    :- puzzle(C,v), cell(C).\n",
    "    :- puzzle(C,0), cell(C).\n",
    "\"\"\"\n",
    "puzzle.puzzle_constraints_program += \"\"\"\n",
    "    :- not min_num_mines { solution(C,m) } max_num_mines.\n",
    "    \n",
    "    #minimize { 1,puzzle(C,V) : puzzle(C,V) }.\n",
    "\"\"\"\n",
    "\n",
    "puzzle.solution_program = \"\"\"\n",
    "    1 { solution(C,V) : value(V) } 1 :- cell(C).\n",
    "    solution(C,V) :- puzzle(C,V).\n",
    "\"\"\"\n",
    "puzzle.solution_program += enc_library['ring_around_cell']\n",
    "puzzle.solution_program += \"\"\"\n",
    "    attacks(C1,C2) :- cell(C1), cell(C2), C1 != C2,\n",
    "        solution(C1,m), ring_around_cell(C1,C2,D), D <= 1.\n",
    "    attacks(C1,C2) :- cell(C1), cell(C2), C1 != C2,\n",
    "        solution(C1,b), ring_around_cell(C1,C2,D), D > 0, D <= 2.\n",
    "    attacks(C1,C2) :- cell(C1), cell(C2),\n",
    "        C1 = c(Row,Col1), C2 = c(Row,Col2), |Col1-Col2| = 1,\n",
    "        solution(C1,h).\n",
    "    attacks(C1,C2) :- cell(C1), cell(C2),\n",
    "        C1 = c(Row1,Col), C2 = c(Row2,Col), |Row1-Row2| = 1,\n",
    "        solution(C1,v).\n",
    "\n",
    "    :- cell(C), solution(C,N), num(N),\n",
    "        N != #count { D : cell(D), attacks(D,C) }.\n",
    "    \n",
    "    :- guessed_number(num_big_mines,N),\n",
    "        not N { solution(C,b) } N.\n",
    "    :- guessed_number(num_v_mines,N),\n",
    "        not N { solution(C,v) } N.\n",
    "    :- guessed_number(num_h_mines,N),\n",
    "        not N { solution(C,h) } N.\n",
    "\"\"\""
   ]
  },
  {
   "cell_type": "code",
   "execution_count": 3,
   "metadata": {
    "scrolled": true
   },
   "outputs": [
    {
     "name": "stdout",
     "output_type": "stream",
     "text": [
      ".......\n",
      "Stopped after solving timeout..\n",
      "Solving time: 10.90 seconds\n",
      "\n"
     ]
    }
   ],
   "source": [
    "puzzle.generate(\n",
    "    verbose=True,\n",
    "    precompute_solution=False,\n",
    ")"
   ]
  },
  {
   "cell_type": "code",
   "execution_count": 4,
   "metadata": {},
   "outputs": [
    {
     "name": "stdout",
     "output_type": "stream",
     "text": [
      "| |4|2| | |4|\n",
      "| | |1| | | |\n",
      "| |3| |2| | |\n",
      "| |1| | |1| |\n",
      "\n",
      "num_h_mines = 1\n",
      "num_v_mines = 1\n",
      "num_big_mines = 1\n"
     ]
    }
   ],
   "source": [
    "print(puzzle.pretty_repr_puzzle())"
   ]
  },
  {
   "cell_type": "code",
   "execution_count": 5,
   "metadata": {},
   "outputs": [
    {
     "name": "stdout",
     "output_type": "stream",
     "text": [
      "|.|4|2|-|.|4|\n",
      "|.|||1|*|.|.|\n",
      "|1|3|1|2|3|3|\n",
      "| |1|1|1|1|1|\n"
     ]
    }
   ],
   "source": [
    "print(puzzle.pretty_repr_solution())"
   ]
  },
  {
   "cell_type": "code",
   "execution_count": 6,
   "metadata": {},
   "outputs": [
    {
     "name": "stdout",
     "output_type": "stream",
     "text": [
      "\n",
      "\\begin{tikzpicture}[scale=1]\n",
      "  \\begin{scope}\n",
      "    \\draw (0,0) grid (6,4);\n",
      "    \\draw[ultra thick]\n",
      "      (0,0) rectangle (6,4);\n",
      "      \\node[anchor=center] at (1.5,3.5) {\\Large \\ensuremath{4}};\n",
      "      \\node[anchor=center] at (2.5,3.5) {\\Large \\ensuremath{2}};\n",
      "      \\node[anchor=center] at (5.5,3.5) {\\Large \\ensuremath{4}};\n",
      "      \\node[anchor=center] at (2.5,2.5) {\\Large \\ensuremath{1}};\n",
      "      \\node[anchor=center] at (1.5,1.5) {\\Large \\ensuremath{3}};\n",
      "      \\node[anchor=center] at (3.5,1.5) {\\Large \\ensuremath{2}};\n",
      "      \\node[anchor=center] at (1.5,0.5) {\\Large \\ensuremath{1}};\n",
      "      \\node[anchor=center] at (4.5,0.5) {\\Large \\ensuremath{1}};\n",
      "  \\end{scope}\n",
      "\\end{tikzpicture}\n",
      "\n"
     ]
    }
   ],
   "source": [
    "print(puzzle.latex_repr_puzzle())"
   ]
  },
  {
   "cell_type": "code",
   "execution_count": 7,
   "metadata": {},
   "outputs": [
    {
     "name": "stdout",
     "output_type": "stream",
     "text": [
      "\n",
      "\\begin{tikzpicture}[scale=1]\n",
      "  \\begin{scope}\n",
      "    \\draw (0,0) grid (6,4);\n",
      "    \\draw[ultra thick]\n",
      "      (0,0) rectangle (6,4);\n",
      "      \\node[anchor=center] at (0.5,3.5) {\\Huge \\raisebox{-.5em}{\\ensuremath{\\cdot}}};\n",
      "      \\node[anchor=center] at (1.5,3.5) {\\Large \\ensuremath{4}};\n",
      "      \\node[anchor=center] at (2.5,3.5) {\\Large \\ensuremath{2}};\n",
      "      \\node[anchor=center] at (3.5,3.5) {\\Large \\raisebox{-.5em}{\\textbf{---}}};\n",
      "      \\node[anchor=center] at (4.5,3.5) {\\Huge \\raisebox{-.5em}{\\ensuremath{\\cdot}}};\n",
      "      \\node[anchor=center] at (5.5,3.5) {\\Large \\ensuremath{4}};\n",
      "      \\node[anchor=center] at (0.5,2.5) {\\Huge \\raisebox{-.5em}{\\ensuremath{\\cdot}}};\n",
      "      \\node[anchor=center] at (1.5,2.5) {\\Large \\textbf{|}};\n",
      "      \\node[anchor=center] at (2.5,2.5) {\\Large \\ensuremath{1}};\n",
      "      \\node[anchor=center] at (3.5,2.5) {\\Large \\ensuremath{\\bullet}};\n",
      "      \\node[anchor=center] at (4.5,2.5) {\\Huge \\raisebox{-.5em}{\\ensuremath{\\cdot}}};\n",
      "      \\node[anchor=center] at (5.5,2.5) {\\Huge \\raisebox{-.5em}{\\ensuremath{\\cdot}}};\n",
      "      \\node[anchor=center] at (0.5,1.5) {\\Large \\ensuremath{1}};\n",
      "      \\node[anchor=center] at (1.5,1.5) {\\Large \\ensuremath{3}};\n",
      "      \\node[anchor=center] at (2.5,1.5) {\\Large \\ensuremath{1}};\n",
      "      \\node[anchor=center] at (3.5,1.5) {\\Large \\ensuremath{2}};\n",
      "      \\node[anchor=center] at (4.5,1.5) {\\Large \\ensuremath{3}};\n",
      "      \\node[anchor=center] at (5.5,1.5) {\\Large \\ensuremath{3}};\n",
      "      \\node[anchor=center] at (0.5,0.5) { };\n",
      "      \\node[anchor=center] at (1.5,0.5) {\\Large \\ensuremath{1}};\n",
      "      \\node[anchor=center] at (2.5,0.5) {\\Large \\ensuremath{1}};\n",
      "      \\node[anchor=center] at (3.5,0.5) {\\Large \\ensuremath{1}};\n",
      "      \\node[anchor=center] at (4.5,0.5) {\\Large \\ensuremath{1}};\n",
      "      \\node[anchor=center] at (5.5,0.5) {\\Large \\ensuremath{1}};\n",
      "  \\end{scope}\n",
      "\\end{tikzpicture}\n",
      "\n"
     ]
    }
   ],
   "source": [
    "print(puzzle.latex_repr_solution())"
   ]
  }
 ],
 "metadata": {
  "kernelspec": {
   "display_name": "Python 3 (ipykernel)",
   "language": "python",
   "name": "python3"
  },
  "language_info": {
   "codemirror_mode": {
    "name": "ipython",
    "version": 3
   },
   "file_extension": ".py",
   "mimetype": "text/x-python",
   "name": "python",
   "nbconvert_exporter": "python",
   "pygments_lexer": "ipython3",
   "version": "3.9.12"
  }
 },
 "nbformat": 4,
 "nbformat_minor": 4
}
