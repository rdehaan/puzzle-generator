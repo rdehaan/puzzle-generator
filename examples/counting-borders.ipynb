{
 "cells": [
  {
   "cell_type": "code",
   "execution_count": 1,
   "metadata": {},
   "outputs": [],
   "source": [
    "import os\n",
    "os.chdir('..')\n",
    "\n",
    "from puzzle_generator import *"
   ]
  },
  {
   "cell_type": "code",
   "execution_count": 2,
   "metadata": {},
   "outputs": [
    {
     "name": "stdout",
     "output_type": "stream",
     "text": [
      "num_borders: 49\n",
      "max_value: 4\n"
     ]
    }
   ],
   "source": [
    "width = 6\n",
    "height = 5\n",
    "puzzle = RectangularPuzzle(\n",
    "    width=width,\n",
    "    height=height\n",
    ")\n",
    "\n",
    "diff = 7\n",
    "\n",
    "num_borders = (width-1)*(height-1)*2 + width-1 + height-1\n",
    "max_value = 1\n",
    "while ((max_value+1)*(max_value)/2*diff <= num_borders):\n",
    "    max_value += 1\n",
    "\n",
    "print(f\"num_borders: {num_borders}\")\n",
    "print(f\"max_value: {max_value}\")\n",
    "\n",
    "puzzle.solving_timeout = 240\n",
    "\n",
    "puzzle.naming = {\n",
    "    None: '  ',\n",
    "    'e': ' _',\n",
    "}\n",
    "for i in range(9):\n",
    "    puzzle.naming[str(i)] = f\" {i}\"\n",
    "\n",
    "puzzle.latex_naming = {\n",
    "    None: ' ',\n",
    "    'e': ' ',\n",
    "    'diff': '{\\\\scalebox{1.0}{$\\\\#$}}',\n",
    "}\n",
    "for i in range(0, 10):\n",
    "    puzzle.latex_naming[str(i)] = f'\\\\Large \\\\ensuremath{{{i}}}'\n",
    "    \n",
    "puzzle.domain_program += f\"\"\"\n",
    "    value(N) :- num(N).\n",
    "    num(1..{max_value}).\n",
    "\"\"\"\n",
    "\n",
    "puzzle.puzzle_gen_program += \"\"\"\n",
    "    { puzzle(C,V) : cell(C), value(V) }.\n",
    "\"\"\"\n",
    "puzzle.puzzle_gen_program += f\"\"\"\n",
    "    guessed_number(diff,{diff}).\n",
    "\"\"\"\n",
    "puzzle.puzzle_constraints_program += \"\"\"\n",
    "    #minimize { 1@10,puzzle(C,V) : puzzle(C,V) }.\n",
    "    \n",
    "    % TO INCREASE DIFFICULTY\n",
    "    %:- puzzle(C1,V1), puzzle(C2,V2), C1 != C2, adjacent_cells(C1,C2).\n",
    "    \n",
    "    % TO INCREASE DIFFICULTY\n",
    "    shown_value(V) :- puzzle(C,V).\n",
    "    value_used(V) :- solution(C,V).\n",
    "    :- value_used(V), not value_used(V+1), shown_value(V).\n",
    "\"\"\"\n",
    "\n",
    "puzzle.solution_program = \"\"\"\n",
    "    1 { solution(C,V) : value(V) } 1 :- cell(C).\n",
    "    solution(C,V) :- puzzle(C,V).\n",
    "\"\"\"\n",
    "puzzle.solution_program += enc_library['adjacent_cells']\n",
    "puzzle.solution_program += enc_library['diagonally_adjacent_cells']\n",
    "puzzle.solution_program += \"\"\"\n",
    "    value_used(V) :- solution(C,V).\n",
    "    :- value(V), value(V+1), value_used(V+1), not value_used(V).\n",
    "\n",
    "    :- value_used(V1), value_used(V2), V1 < V2,\n",
    "        guessed_number(diff,M),\n",
    "        #count { C1,C2 : cell(C1), cell(C2), C1 != C2, adjacent_cells(C1,C2),\n",
    "            solution(C1,V1), solution(C2,V2) } != M.\n",
    "\"\"\"\n",
    "puzzle.solution_program += enc_library['three_in_a_row']\n",
    "puzzle.essential_solution_constraints = [\n",
    "    \"\"\"\n",
    "    :- diagonally_adjacent_cells(C1,C2), solution(C1,V), solution(C2,V).\n",
    "    \"\"\",\n",
    "    \"\"\"\n",
    "    :- three_in_a_row(C1,C2,C3), solution(C1,V), solution(C2,V), solution(C3,V).\n",
    "    \"\"\",\n",
    "]"
   ]
  },
  {
   "cell_type": "code",
   "execution_count": 3,
   "metadata": {},
   "outputs": [
    {
     "name": "stdout",
     "output_type": "stream",
     "text": [
      "Done grounding..\n",
      "........\n",
      "Stopped after solving timeout..\n",
      "Solving time: 241.38 seconds\n",
      "\n"
     ]
    }
   ],
   "source": [
    "puzzle.generate(\n",
    "    verbose=True,\n",
    "    precompute_solution=False,\n",
    ")"
   ]
  },
  {
   "cell_type": "code",
   "execution_count": 4,
   "metadata": {},
   "outputs": [
    {
     "name": "stdout",
     "output_type": "stream",
     "text": [
      "|  | 2|  |  |  |  |\n",
      "|  |  | 1|  |  | 1|\n",
      "| 3| 2| 2|  | 3| 2|\n",
      "|  |  |  |  |  |  |\n",
      "|  | 1|  |  |  | 1|\n",
      "\n",
      "diff = 7\n"
     ]
    }
   ],
   "source": [
    "print(puzzle.pretty_repr_puzzle())"
   ]
  },
  {
   "cell_type": "code",
   "execution_count": 5,
   "metadata": {},
   "outputs": [
    {
     "name": "stdout",
     "output_type": "stream",
     "text": [
      "| 1| 2| 1| 3| 2| 3|\n",
      "| 3| 4| 1| 4| 1| 1|\n",
      "| 3| 2| 2| 4| 3| 2|\n",
      "| 4| 4| 3| 1| 3| 4|\n",
      "| 3| 1| 2| 4| 2| 1|\n"
     ]
    }
   ],
   "source": [
    "print(puzzle.pretty_repr_solution())"
   ]
  },
  {
   "cell_type": "code",
   "execution_count": 6,
   "metadata": {},
   "outputs": [
    {
     "name": "stdout",
     "output_type": "stream",
     "text": [
      "\n",
      "\\begin{tikzpicture}[scale=1]\n",
      "  \\begin{scope}\n",
      "    \\draw (0,0) grid (6,5);\n",
      "    \\draw[ultra thick]\n",
      "      (0,0) rectangle (6,5);\n",
      "      \\node[anchor=center] (1;1) at (0.5,4.5) { };\n",
      "      \\node[anchor=center] (1;2) at (1.5,4.5) {\\Large \\ensuremath{2}};\n",
      "      \\node[anchor=center] (1;3) at (2.5,4.5) { };\n",
      "      \\node[anchor=center] (1;4) at (3.5,4.5) { };\n",
      "      \\node[anchor=center] (1;5) at (4.5,4.5) { };\n",
      "      \\node[anchor=center] (1;6) at (5.5,4.5) { };\n",
      "      \\node[anchor=center] (2;1) at (0.5,3.5) { };\n",
      "      \\node[anchor=center] (2;2) at (1.5,3.5) { };\n",
      "      \\node[anchor=center] (2;3) at (2.5,3.5) {\\Large \\ensuremath{1}};\n",
      "      \\node[anchor=center] (2;4) at (3.5,3.5) { };\n",
      "      \\node[anchor=center] (2;5) at (4.5,3.5) { };\n",
      "      \\node[anchor=center] (2;6) at (5.5,3.5) {\\Large \\ensuremath{1}};\n",
      "      \\node[anchor=center] (3;1) at (0.5,2.5) {\\Large \\ensuremath{3}};\n",
      "      \\node[anchor=center] (3;2) at (1.5,2.5) {\\Large \\ensuremath{2}};\n",
      "      \\node[anchor=center] (3;3) at (2.5,2.5) {\\Large \\ensuremath{2}};\n",
      "      \\node[anchor=center] (3;4) at (3.5,2.5) { };\n",
      "      \\node[anchor=center] (3;5) at (4.5,2.5) {\\Large \\ensuremath{3}};\n",
      "      \\node[anchor=center] (3;6) at (5.5,2.5) {\\Large \\ensuremath{2}};\n",
      "      \\node[anchor=center] (4;1) at (0.5,1.5) { };\n",
      "      \\node[anchor=center] (4;2) at (1.5,1.5) { };\n",
      "      \\node[anchor=center] (4;3) at (2.5,1.5) { };\n",
      "      \\node[anchor=center] (4;4) at (3.5,1.5) { };\n",
      "      \\node[anchor=center] (4;5) at (4.5,1.5) { };\n",
      "      \\node[anchor=center] (4;6) at (5.5,1.5) { };\n",
      "      \\node[anchor=center] (5;1) at (0.5,0.5) { };\n",
      "      \\node[anchor=center] (5;2) at (1.5,0.5) {\\Large \\ensuremath{1}};\n",
      "      \\node[anchor=center] (5;3) at (2.5,0.5) { };\n",
      "      \\node[anchor=center] (5;4) at (3.5,0.5) { };\n",
      "      \\node[anchor=center] (5;5) at (4.5,0.5) { };\n",
      "      \\node[anchor=center] (5;6) at (5.5,0.5) {\\Large \\ensuremath{1}};\n",
      "  \\end{scope}\n",
      "\\end{tikzpicture}\n",
      "\\\\\n",
      "{\\scalebox{1.0}{$\\#$}}: 7\n"
     ]
    }
   ],
   "source": [
    "print(puzzle.latex_repr_puzzle())"
   ]
  },
  {
   "cell_type": "code",
   "execution_count": 7,
   "metadata": {},
   "outputs": [
    {
     "name": "stdout",
     "output_type": "stream",
     "text": [
      "\n",
      "\\begin{tikzpicture}[scale=1]\n",
      "  \\begin{scope}\n",
      "    \\draw (0,0) grid (6,5);\n",
      "    \\draw[ultra thick]\n",
      "      (0,0) rectangle (6,5);\n",
      "      \\node[anchor=center] (1;1) at (0.5,4.5) {\\Large \\ensuremath{1}};\n",
      "      \\node[anchor=center] (1;2) at (1.5,4.5) {\\Large \\ensuremath{2}};\n",
      "      \\node[anchor=center] (1;3) at (2.5,4.5) {\\Large \\ensuremath{1}};\n",
      "      \\node[anchor=center] (1;4) at (3.5,4.5) {\\Large \\ensuremath{3}};\n",
      "      \\node[anchor=center] (1;5) at (4.5,4.5) {\\Large \\ensuremath{2}};\n",
      "      \\node[anchor=center] (1;6) at (5.5,4.5) {\\Large \\ensuremath{3}};\n",
      "      \\node[anchor=center] (2;1) at (0.5,3.5) {\\Large \\ensuremath{3}};\n",
      "      \\node[anchor=center] (2;2) at (1.5,3.5) {\\Large \\ensuremath{4}};\n",
      "      \\node[anchor=center] (2;3) at (2.5,3.5) {\\Large \\ensuremath{1}};\n",
      "      \\node[anchor=center] (2;4) at (3.5,3.5) {\\Large \\ensuremath{4}};\n",
      "      \\node[anchor=center] (2;5) at (4.5,3.5) {\\Large \\ensuremath{1}};\n",
      "      \\node[anchor=center] (2;6) at (5.5,3.5) {\\Large \\ensuremath{1}};\n",
      "      \\node[anchor=center] (3;1) at (0.5,2.5) {\\Large \\ensuremath{3}};\n",
      "      \\node[anchor=center] (3;2) at (1.5,2.5) {\\Large \\ensuremath{2}};\n",
      "      \\node[anchor=center] (3;3) at (2.5,2.5) {\\Large \\ensuremath{2}};\n",
      "      \\node[anchor=center] (3;4) at (3.5,2.5) {\\Large \\ensuremath{4}};\n",
      "      \\node[anchor=center] (3;5) at (4.5,2.5) {\\Large \\ensuremath{3}};\n",
      "      \\node[anchor=center] (3;6) at (5.5,2.5) {\\Large \\ensuremath{2}};\n",
      "      \\node[anchor=center] (4;1) at (0.5,1.5) {\\Large \\ensuremath{4}};\n",
      "      \\node[anchor=center] (4;2) at (1.5,1.5) {\\Large \\ensuremath{4}};\n",
      "      \\node[anchor=center] (4;3) at (2.5,1.5) {\\Large \\ensuremath{3}};\n",
      "      \\node[anchor=center] (4;4) at (3.5,1.5) {\\Large \\ensuremath{1}};\n",
      "      \\node[anchor=center] (4;5) at (4.5,1.5) {\\Large \\ensuremath{3}};\n",
      "      \\node[anchor=center] (4;6) at (5.5,1.5) {\\Large \\ensuremath{4}};\n",
      "      \\node[anchor=center] (5;1) at (0.5,0.5) {\\Large \\ensuremath{3}};\n",
      "      \\node[anchor=center] (5;2) at (1.5,0.5) {\\Large \\ensuremath{1}};\n",
      "      \\node[anchor=center] (5;3) at (2.5,0.5) {\\Large \\ensuremath{2}};\n",
      "      \\node[anchor=center] (5;4) at (3.5,0.5) {\\Large \\ensuremath{4}};\n",
      "      \\node[anchor=center] (5;5) at (4.5,0.5) {\\Large \\ensuremath{2}};\n",
      "      \\node[anchor=center] (5;6) at (5.5,0.5) {\\Large \\ensuremath{1}};\n",
      "  \\end{scope}\n",
      "\\end{tikzpicture}\n",
      "\n"
     ]
    }
   ],
   "source": [
    "print(puzzle.latex_repr_solution())"
   ]
  },
  {
   "cell_type": "code",
   "execution_count": null,
   "metadata": {},
   "outputs": [],
   "source": []
  }
 ],
 "metadata": {
  "kernelspec": {
   "display_name": "Python 3 (ipykernel)",
   "language": "python",
   "name": "python3"
  },
  "language_info": {
   "codemirror_mode": {
    "name": "ipython",
    "version": 3
   },
   "file_extension": ".py",
   "mimetype": "text/x-python",
   "name": "python",
   "nbconvert_exporter": "python",
   "pygments_lexer": "ipython3",
   "version": "3.9.12"
  }
 },
 "nbformat": 4,
 "nbformat_minor": 4
}
