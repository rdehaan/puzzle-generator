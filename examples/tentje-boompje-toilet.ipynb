{
 "cells": [
  {
   "cell_type": "code",
   "execution_count": 1,
   "metadata": {},
   "outputs": [],
   "source": [
    "import os\n",
    "os.chdir('..')\n",
    "\n",
    "from puzzle_generator import *"
   ]
  },
  {
   "cell_type": "code",
   "execution_count": 2,
   "metadata": {},
   "outputs": [],
   "source": [
    "width = 7\n",
    "height = 7\n",
    "puzzle = RectangularPuzzle(\n",
    "    width=width,\n",
    "    height=height\n",
    ")\n",
    "\n",
    "minimum_number_of_tents = 7 # enter 0 to disable this minimum constraint\n",
    "\n",
    "puzzle.solving_timeout = 30\n",
    "\n",
    "puzzle.naming = {\n",
    "    None: ' ',\n",
    "    'n': ' ',\n",
    "    'e': '_',\n",
    "}\n",
    "\n",
    "puzzle.domain_program += \"\"\"\n",
    "    value(e).\n",
    "    value(n).\n",
    "    game_value(b).\n",
    "    counted_value(t;w;o).\n",
    "    game_value(S) :- counted_value(S).\n",
    "    value(S) :- game_value(S).\n",
    "\n",
    "    num(0..board_width-1).\n",
    "    num(0..board_height-1).\n",
    "    value(N) :- num(N).\n",
    "    \n",
    "    guessed_number(num_offices,1).\n",
    "    1 { guessed_number(num_toilets,1..2) } 1.\n",
    "    \n",
    "    main_cell(c(Row,Col)) :- cell(c(Row,Col)),\n",
    "        Row < board_height, Col < board_width.\n",
    "    bottom_counting_cell(c(Row,Col)) :- cell(c(Row,Col)),\n",
    "        Row = board_height, Col < board_width.\n",
    "    right_counting_cell(c(Row,Col)) :- cell(c(Row,Col)),\n",
    "        Row < board_height, Col = board_width.\n",
    "    counting_cell(C) :- bottom_counting_cell(C).\n",
    "    counting_cell(C) :- right_counting_cell(C).\n",
    "    empty_cell(C) :- cell(C),\n",
    "        not main_cell(C),\n",
    "        not counting_cell(C).\n",
    "    \n",
    "    outside_cell(c(R,C)) :- main_cell(c(R,C)), C = 1.\n",
    "    outside_cell(c(R,C)) :- main_cell(c(R,C)), C = board_width-1.\n",
    "    outside_cell(c(R,C)) :- main_cell(c(R,C)), R = 1.\n",
    "    outside_cell(c(R,C)) :- main_cell(c(R,C)), R = board_height-1.\n",
    "\"\"\"\n",
    "\n",
    "puzzle.puzzle_gen_program += \"\"\"\n",
    "    { puzzle(C,V) : main_cell(C), solution(C,V) }.\n",
    "    puzzle(C,V) :- solution(C,V), cell(C), not main_cell(C).\n",
    "\"\"\"\n",
    "if minimum_number_of_tents > 0:\n",
    "    puzzle.puzzle_constraints_program += f\"\"\"\n",
    "        :- not {minimum_number_of_tents} {{ puzzle(C,b) : main_cell(C) }}.\n",
    "    \"\"\"\n",
    "puzzle.puzzle_constraints_program += \"\"\"\n",
    "    :- puzzle(C,t).\n",
    "    :- puzzle(C,e).\n",
    "    :- puzzle(C,w).\n",
    "    puzzle(C,b) :- solution(C,b).\n",
    "\n",
    "    #maximize { 1,C1,C2 : puzzle(C1,b), puzzle(C2,b), not adjacent_cells(C1,C2) }.\n",
    "    #minimize { 10,C : counting_cell(C), solution(C,0) }.\n",
    "    #minimize { 1,C : counting_cell(C), solution(C,1) }.\n",
    "\"\"\"\n",
    "\n",
    "puzzle.solution_program = \"\"\"\n",
    "    1 { solution(C,V) : value(V) } 1 :- cell(C).\n",
    "    solution(C,V) :- puzzle(C,V).\n",
    "\"\"\"\n",
    "puzzle.solution_program += enc_library['adjacent_cells']\n",
    "puzzle.solution_program += enc_library['ring_around_cell']\n",
    "\n",
    "puzzle.solution_program += \"\"\"\n",
    "    :- main_cell(C), solution(C,V), num(V).\n",
    "    :- empty_cell(C), solution(C,V), V != n.\n",
    "    :- not empty_cell(C), solution(C,n).\n",
    "    :- bottom_counting_cell(C), solution(C,V), not num(V).\n",
    "    :- right_counting_cell(C), solution(C,V), not num(V).\n",
    "    \n",
    "    :- solution(C,b), main_cell(C), not puzzle(C,b).\n",
    "    \n",
    "    1 { match(C1,C2) : main_cell(C2), solution(C2,t), adjacent_cells(C1,C2) } 1 :-\n",
    "        main_cell(C1), solution(C1,b).\n",
    "    1 { match(C1,C2) : main_cell(C1), solution(C1,b), adjacent_cells(C1,C2) } 1 :-\n",
    "        main_cell(C2), solution(C2,t).\n",
    "    \n",
    "    :- main_cell(C1), main_cell(C2), solution(C1,t), solution(C2,t),\n",
    "        C1 != C2, ring_around_cell(C1,C2,1).\n",
    "\n",
    "    :- guessed_number(num_toilets,N),\n",
    "        not N { solution(C,w) : main_cell(C) } N.\n",
    "        \n",
    "    :- guessed_number(num_offices,N),\n",
    "        not N { solution(C,o) : main_cell(C) } N.\n",
    "    \n",
    "    toilet_reachable_from(C) :- main_cell(C), solution(C,w).\n",
    "    toilet_reachable_from(C1) :-\n",
    "        main_cell(C1), main_cell(C2), adjacent_cells(C1,C2),\n",
    "        toilet_reachable_from(C2), solution(C1,e).\n",
    "    tent_has_toilet_coverage(C1) :-\n",
    "        main_cell(C1), main_cell(C2), adjacent_cells(C1,C2),\n",
    "        toilet_reachable_from(C2), solution(C1,t).\n",
    "    \n",
    "    tent_reachable_from(C) :- main_cell(C), solution(C,w).\n",
    "    tent_reachable_from(C1) :-\n",
    "        main_cell(C1), main_cell(C2), adjacent_cells(C1,C2),\n",
    "        tent_reachable_from(C2), solution(C1,e).\n",
    "    toilet_has_tent_coverage(C1) :-\n",
    "        main_cell(C1), main_cell(C2), adjacent_cells(C1,C2),\n",
    "        tent_reachable_from(C2), solution(C1,w).\n",
    "    \n",
    "    office_reachable_from(C) :- main_cell(C), solution(C,o).\n",
    "    office_reachable_from(C1) :-\n",
    "        main_cell(C1), main_cell(C2), adjacent_cells(C1,C2),\n",
    "        office_reachable_from(C2), solution(C1,e).\n",
    "    tent_has_office_coverage(C1) :-\n",
    "        main_cell(C1), main_cell(C2), adjacent_cells(C1,C2),\n",
    "        office_reachable_from(C2), solution(C1,t).\n",
    "    \n",
    "    :- main_cell(C), solution(C,w), not toilet_has_tent_coverage(C).\n",
    "    \n",
    "    :- right_counting_cell(C), C = c(Row,Col1),\n",
    "        N = #count { C2 : C2 = c(Row,Col2), main_cell(C2), solution(C2,S), counted_value(S) },\n",
    "        not solution(C,N).\n",
    "    :- bottom_counting_cell(C), C = c(Row1,Col),\n",
    "        N = #count { C2 : C2 = c(Row2,Col), main_cell(C2), solution(C2,S), counted_value(S) },\n",
    "        not solution(C,N).\n",
    "    \n",
    "    :- solution(C,o), not outside_cell(C).\n",
    "\"\"\"\n",
    "puzzle.essential_solution_constraints = [\n",
    "    \"\"\"\n",
    "    :- main_cell(C), solution(C,t), not tent_has_toilet_coverage(C).\n",
    "    \"\"\",\n",
    "    \"\"\"\n",
    "    :- main_cell(C), solution(C,t), not tent_has_office_coverage(C).\n",
    "    \"\"\",\n",
    "]"
   ]
  },
  {
   "cell_type": "code",
   "execution_count": 3,
   "metadata": {},
   "outputs": [
    {
     "name": "stdout",
     "output_type": "stream",
     "text": [
      "Adding quality check propagator..\n",
      "Done grounding..\n",
      "~~~~~~~~~~~~~~~~~~~~~~~~~~~~~~~~~~~~~~~~~~~~~~~~~~~~~~~~~~~~~~~~~~~~~~~~~~~~~~~~~.\n",
      "Stopped after solving timeout..\n",
      "Solving time: 45.59 seconds\n",
      "\n"
     ]
    }
   ],
   "source": [
    "puzzle.generate(\n",
    "    verbose=True,\n",
    "    quality_check_criteria=[\"--lookahead=atom\", 1, 0],\n",
    ")"
   ]
  },
  {
   "cell_type": "code",
   "execution_count": 4,
   "metadata": {},
   "outputs": [
    {
     "name": "stdout",
     "output_type": "stream",
     "text": [
      "| |b| | | |b|2|\n",
      "| |b| | | | |2|\n",
      "| | | |b| | |1|\n",
      "| | | | |b| |2|\n",
      "|b| | | | | |2|\n",
      "| | |b| | | |1|\n",
      "|2|1|2|2|1|2| |\n",
      "\n",
      "num_offices = 1\n",
      "num_toilets = 2\n"
     ]
    }
   ],
   "source": [
    "print(puzzle.pretty_repr_puzzle())"
   ]
  },
  {
   "cell_type": "code",
   "execution_count": 5,
   "metadata": {},
   "outputs": [
    {
     "name": "stdout",
     "output_type": "stream",
     "text": [
      "|_|b|t|w|_|b|2|\n",
      "|t|b|_|_|_|t|2|\n",
      "|_|_|t|b|_|_|1|\n",
      "|t|_|_|w|b|_|2|\n",
      "|b|_|_|_|t|o|2|\n",
      "|_|t|b|_|_|_|1|\n",
      "|2|1|2|2|1|2| |\n"
     ]
    }
   ],
   "source": [
    "print(puzzle.pretty_repr_solution())"
   ]
  },
  {
   "cell_type": "code",
   "execution_count": null,
   "metadata": {},
   "outputs": [],
   "source": []
  }
 ],
 "metadata": {
  "kernelspec": {
   "display_name": "Python 3 (ipykernel)",
   "language": "python",
   "name": "python3"
  },
  "language_info": {
   "codemirror_mode": {
    "name": "ipython",
    "version": 3
   },
   "file_extension": ".py",
   "mimetype": "text/x-python",
   "name": "python",
   "nbconvert_exporter": "python",
   "pygments_lexer": "ipython3",
   "version": "3.9.12"
  }
 },
 "nbformat": 4,
 "nbformat_minor": 4
}
