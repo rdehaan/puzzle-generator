{
 "cells": [
  {
   "cell_type": "code",
   "execution_count": 1,
   "metadata": {},
   "outputs": [],
   "source": [
    "import os\n",
    "os.chdir('..')\n",
    "\n",
    "from puzzle_generator import *"
   ]
  },
  {
   "cell_type": "code",
   "execution_count": 2,
   "metadata": {},
   "outputs": [],
   "source": [
    "width = 6\n",
    "height = 5\n",
    "puzzle = RectangularPuzzle(\n",
    "    width=width,\n",
    "    height=height\n",
    ")\n",
    "\n",
    "puzzle.solving_timeout = 180\n",
    "\n",
    "puzzle.naming = {\n",
    "    None: '  ',\n",
    "    'e': ' _',\n",
    "    'p': ' +',\n",
    "    'm': ' -',\n",
    "}\n",
    "for i in range(9):\n",
    "    puzzle.naming[str(i)] = f\" {i}\"\n",
    "\n",
    "puzzle.latex_naming = {\n",
    "    None: ' ',\n",
    "    'e': ' ',\n",
    "    'p': '\\\\signmine{\\\\ensuremath{+}}',\n",
    "    'm': '\\\\signmine{\\\\ensuremath{-}}',\n",
    "    'diff': '{\\\\scalebox{1.0}{$\\\\Delta$}}',\n",
    "}\n",
    "for i in range(0, 10):\n",
    "    puzzle.latex_naming[str(i)] = f'\\\\Large \\\\ensuremath{{{i}}}'\n",
    "    puzzle.latex_naming[str(-i)] = f'\\\\Large \\\\ensuremath{{{-i}}}'\n",
    "    \n",
    "puzzle.domain_program += f\"\"\"\n",
    "    value(m;p).\n",
    "    value(N) :- num(N).\n",
    "    num(0..8).\n",
    "    num(-N) :- num(N).\n",
    "\"\"\"\n",
    "\n",
    "puzzle.puzzle_gen_program += \"\"\"\n",
    "    { puzzle(C,V) : cell(C), value(V) }.\n",
    "    :- puzzle(C,m), cell(C).\n",
    "    :- puzzle(C,p), cell(C).\n",
    "    :- puzzle(C,0), cell(C).\n",
    "    \n",
    "    1 { guessed_number(diff,1) } 1.\n",
    "\"\"\"\n",
    "puzzle.puzzle_constraints_program += enc_library['diagonally_adjacent_cells']\n",
    "puzzle.puzzle_constraints_program += \"\"\"\n",
    "    #minimize { 1@10,puzzle(C,V) : puzzle(C,V) }.\n",
    "\n",
    "    mixed_cell(C) :- solution(C,N), num(N),\n",
    "        ring_around_cell(C,C1,1), solution(C1,m),\n",
    "        ring_around_cell(C,C2,1), solution(C2,p).\n",
    "    :- not 2 { mixed_cell(C) }.\n",
    "    #maximize { 1@20,mixed_cell(C) : mixed_cell(C) }.\n",
    "        \n",
    "    :- puzzle(C,V) : solution(C,V), num(V), V > 0.\n",
    "    \n",
    "    % TO INCREASE DIFFICULTY\n",
    "    puzzle(C) :- puzzle(C,_).\n",
    "    :- puzzle(C,V), num(V),\n",
    "        |V| = #count { D : cell(D), ring_around_cell(C,D,1), not puzzle(D) }.\n",
    "    \n",
    "    % TO INCREASE DIFFICULTY\n",
    "    :- puzzle(C1,V1), puzzle(C2,V2), diagonally_adjacent_cells(C1,C2).\n",
    "\"\"\"\n",
    "\n",
    "puzzle.solution_program = \"\"\"\n",
    "    1 { solution(C,V) : value(V) } 1 :- cell(C).\n",
    "    solution(C,V) :- puzzle(C,V).\n",
    "\"\"\"\n",
    "puzzle.solution_program += enc_library['ring_around_cell']\n",
    "puzzle.solution_program += enc_library['adjacent_cells']\n",
    "puzzle.solution_program += enc_library['diagonally_adjacent_cells']\n",
    "puzzle.solution_program += \"\"\"\n",
    "    :- cell(C), solution(C,N), num(N),\n",
    "        P = #count { D : cell(D), ring_around_cell(C,D,1), solution(D,p) },\n",
    "        M = #count { D : cell(D), ring_around_cell(C,D,1), solution(D,m) },\n",
    "        N != P - M.\n",
    "\"\"\"\n",
    "\n",
    "puzzle.essential_solution_constraints = [\n",
    "    \"\"\"\n",
    "    :- cell(C1), cell(C2), adjacent_cells(C1,C2),\n",
    "        solution(C1,p), solution(C2,m).\n",
    "    \"\"\",\n",
    "    \"\"\"\n",
    "    :- cell(C1), cell(C2), diagonally_adjacent_cells(C1,C2),\n",
    "        solution(C1,p), solution(C2,p).\n",
    "    :- cell(C1), cell(C2), diagonally_adjacent_cells(C1,C2),\n",
    "        solution(C1,m), solution(C2,m).\n",
    "    \"\"\",\n",
    "    \"\"\"\n",
    "    :- P = #count { C : cell(C), solution(C,p) },\n",
    "        M = #count { C : cell(C), solution(C,m) },\n",
    "        guessed_number(diff,D),\n",
    "        |P-M| != D.\n",
    "    \"\"\",\n",
    "]"
   ]
  },
  {
   "cell_type": "code",
   "execution_count": 3,
   "metadata": {},
   "outputs": [
    {
     "name": "stdout",
     "output_type": "stream",
     "text": [
      "Done grounding..\n",
      ".......\n",
      "Stopped after solving timeout..\n",
      "Solving time: 223.92 seconds\n",
      "\n"
     ]
    }
   ],
   "source": [
    "puzzle.generate(\n",
    "    verbose=True,\n",
    "    precompute_solution=False,\n",
    ")"
   ]
  },
  {
   "cell_type": "code",
   "execution_count": 4,
   "metadata": {},
   "outputs": [
    {
     "name": "stdout",
     "output_type": "stream",
     "text": [
      "|  |  |  |  |-1|  |\n",
      "|  |  |  |  |  |  |\n",
      "| 1|  | 2| 5|  |  |\n",
      "|  |  |  |  |  |  |\n",
      "|  |  | 1| 3|  | 1|\n",
      "\n",
      "diff = 1\n"
     ]
    }
   ],
   "source": [
    "print(puzzle.pretty_repr_puzzle())"
   ]
  },
  {
   "cell_type": "code",
   "execution_count": 5,
   "metadata": {},
   "outputs": [
    {
     "name": "stdout",
     "output_type": "stream",
     "text": [
      "| 0| -|-1| -|-1| -|\n",
      "| +| 0| +| 1| +|-1|\n",
      "| 1| -| 2| 5| 2| -|\n",
      "| +| 0| +| +| +| 0|\n",
      "| 0| -| 1| 3| 2| 1|\n"
     ]
    }
   ],
   "source": [
    "print(puzzle.pretty_repr_solution())"
   ]
  },
  {
   "cell_type": "code",
   "execution_count": 6,
   "metadata": {},
   "outputs": [
    {
     "name": "stdout",
     "output_type": "stream",
     "text": [
      "\n",
      "\\begin{tikzpicture}[scale=1]\n",
      "  \\begin{scope}\n",
      "    \\draw (0,0) grid (6,5);\n",
      "    \\draw[ultra thick]\n",
      "      (0,0) rectangle (6,5);\n",
      "      \\node[anchor=center] (1;1) at (0.5,4.5) { };\n",
      "      \\node[anchor=center] (1;2) at (1.5,4.5) { };\n",
      "      \\node[anchor=center] (1;3) at (2.5,4.5) { };\n",
      "      \\node[anchor=center] (1;4) at (3.5,4.5) { };\n",
      "      \\node[anchor=center] (1;5) at (4.5,4.5) {\\Large \\ensuremath{-1}};\n",
      "      \\node[anchor=center] (1;6) at (5.5,4.5) { };\n",
      "      \\node[anchor=center] (2;1) at (0.5,3.5) { };\n",
      "      \\node[anchor=center] (2;2) at (1.5,3.5) { };\n",
      "      \\node[anchor=center] (2;3) at (2.5,3.5) { };\n",
      "      \\node[anchor=center] (2;4) at (3.5,3.5) { };\n",
      "      \\node[anchor=center] (2;5) at (4.5,3.5) { };\n",
      "      \\node[anchor=center] (2;6) at (5.5,3.5) { };\n",
      "      \\node[anchor=center] (3;1) at (0.5,2.5) {\\Large \\ensuremath{1}};\n",
      "      \\node[anchor=center] (3;2) at (1.5,2.5) { };\n",
      "      \\node[anchor=center] (3;3) at (2.5,2.5) {\\Large \\ensuremath{2}};\n",
      "      \\node[anchor=center] (3;4) at (3.5,2.5) {\\Large \\ensuremath{5}};\n",
      "      \\node[anchor=center] (3;5) at (4.5,2.5) { };\n",
      "      \\node[anchor=center] (3;6) at (5.5,2.5) { };\n",
      "      \\node[anchor=center] (4;1) at (0.5,1.5) { };\n",
      "      \\node[anchor=center] (4;2) at (1.5,1.5) { };\n",
      "      \\node[anchor=center] (4;3) at (2.5,1.5) { };\n",
      "      \\node[anchor=center] (4;4) at (3.5,1.5) { };\n",
      "      \\node[anchor=center] (4;5) at (4.5,1.5) { };\n",
      "      \\node[anchor=center] (4;6) at (5.5,1.5) { };\n",
      "      \\node[anchor=center] (5;1) at (0.5,0.5) { };\n",
      "      \\node[anchor=center] (5;2) at (1.5,0.5) { };\n",
      "      \\node[anchor=center] (5;3) at (2.5,0.5) {\\Large \\ensuremath{1}};\n",
      "      \\node[anchor=center] (5;4) at (3.5,0.5) {\\Large \\ensuremath{3}};\n",
      "      \\node[anchor=center] (5;5) at (4.5,0.5) { };\n",
      "      \\node[anchor=center] (5;6) at (5.5,0.5) {\\Large \\ensuremath{1}};\n",
      "  \\end{scope}\n",
      "\\end{tikzpicture}\n",
      "\\\\\n",
      "{\\scalebox{1.0}{$\\Delta$}}: 1\n"
     ]
    }
   ],
   "source": [
    "print(puzzle.latex_repr_puzzle())"
   ]
  },
  {
   "cell_type": "code",
   "execution_count": 7,
   "metadata": {},
   "outputs": [
    {
     "name": "stdout",
     "output_type": "stream",
     "text": [
      "\n",
      "\\begin{tikzpicture}[scale=1]\n",
      "  \\begin{scope}\n",
      "    \\draw (0,0) grid (6,5);\n",
      "    \\draw[ultra thick]\n",
      "      (0,0) rectangle (6,5);\n",
      "      \\node[anchor=center] (1;1) at (0.5,4.5) {\\Large \\ensuremath{0}};\n",
      "      \\node[anchor=center] (1;2) at (1.5,4.5) {\\signmine{\\ensuremath{-}}};\n",
      "      \\node[anchor=center] (1;3) at (2.5,4.5) {\\Large \\ensuremath{-1}};\n",
      "      \\node[anchor=center] (1;4) at (3.5,4.5) {\\signmine{\\ensuremath{-}}};\n",
      "      \\node[anchor=center] (1;5) at (4.5,4.5) {\\Large \\ensuremath{-1}};\n",
      "      \\node[anchor=center] (1;6) at (5.5,4.5) {\\signmine{\\ensuremath{-}}};\n",
      "      \\node[anchor=center] (2;1) at (0.5,3.5) {\\signmine{\\ensuremath{+}}};\n",
      "      \\node[anchor=center] (2;2) at (1.5,3.5) {\\Large \\ensuremath{0}};\n",
      "      \\node[anchor=center] (2;3) at (2.5,3.5) {\\signmine{\\ensuremath{+}}};\n",
      "      \\node[anchor=center] (2;4) at (3.5,3.5) {\\Large \\ensuremath{1}};\n",
      "      \\node[anchor=center] (2;5) at (4.5,3.5) {\\signmine{\\ensuremath{+}}};\n",
      "      \\node[anchor=center] (2;6) at (5.5,3.5) {\\Large \\ensuremath{-1}};\n",
      "      \\node[anchor=center] (3;1) at (0.5,2.5) {\\Large \\ensuremath{1}};\n",
      "      \\node[anchor=center] (3;2) at (1.5,2.5) {\\signmine{\\ensuremath{-}}};\n",
      "      \\node[anchor=center] (3;3) at (2.5,2.5) {\\Large \\ensuremath{2}};\n",
      "      \\node[anchor=center] (3;4) at (3.5,2.5) {\\Large \\ensuremath{5}};\n",
      "      \\node[anchor=center] (3;5) at (4.5,2.5) {\\Large \\ensuremath{2}};\n",
      "      \\node[anchor=center] (3;6) at (5.5,2.5) {\\signmine{\\ensuremath{-}}};\n",
      "      \\node[anchor=center] (4;1) at (0.5,1.5) {\\signmine{\\ensuremath{+}}};\n",
      "      \\node[anchor=center] (4;2) at (1.5,1.5) {\\Large \\ensuremath{0}};\n",
      "      \\node[anchor=center] (4;3) at (2.5,1.5) {\\signmine{\\ensuremath{+}}};\n",
      "      \\node[anchor=center] (4;4) at (3.5,1.5) {\\signmine{\\ensuremath{+}}};\n",
      "      \\node[anchor=center] (4;5) at (4.5,1.5) {\\signmine{\\ensuremath{+}}};\n",
      "      \\node[anchor=center] (4;6) at (5.5,1.5) {\\Large \\ensuremath{0}};\n",
      "      \\node[anchor=center] (5;1) at (0.5,0.5) {\\Large \\ensuremath{0}};\n",
      "      \\node[anchor=center] (5;2) at (1.5,0.5) {\\signmine{\\ensuremath{-}}};\n",
      "      \\node[anchor=center] (5;3) at (2.5,0.5) {\\Large \\ensuremath{1}};\n",
      "      \\node[anchor=center] (5;4) at (3.5,0.5) {\\Large \\ensuremath{3}};\n",
      "      \\node[anchor=center] (5;5) at (4.5,0.5) {\\Large \\ensuremath{2}};\n",
      "      \\node[anchor=center] (5;6) at (5.5,0.5) {\\Large \\ensuremath{1}};\n",
      "  \\end{scope}\n",
      "\\end{tikzpicture}\n",
      "\n"
     ]
    }
   ],
   "source": [
    "print(puzzle.latex_repr_solution())"
   ]
  },
  {
   "cell_type": "code",
   "execution_count": 8,
   "metadata": {},
   "outputs": [],
   "source": [
    "latex_preamble = \"\"\"\n",
    "    \\makeatletter\n",
    "    \\newcommand*\\signmine[2][1.6]{\\tikz[baseline=(char.base)]{\n",
    "        \\node[shape=circle, fill=black!30, inner sep=0pt, \n",
    "            minimum height={\\f@size*#1},] (char) {\\vphantom{WAH1g}#2};}}\n",
    "    \\makeatother\n",
    "\"\"\""
   ]
  }
 ],
 "metadata": {
  "kernelspec": {
   "display_name": "Python 3 (ipykernel)",
   "language": "python",
   "name": "python3"
  },
  "language_info": {
   "codemirror_mode": {
    "name": "ipython",
    "version": 3
   },
   "file_extension": ".py",
   "mimetype": "text/x-python",
   "name": "python",
   "nbconvert_exporter": "python",
   "pygments_lexer": "ipython3",
   "version": "3.9.12"
  }
 },
 "nbformat": 4,
 "nbformat_minor": 4
}
