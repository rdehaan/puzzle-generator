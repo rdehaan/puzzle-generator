{
 "cells": [
  {
   "cell_type": "code",
   "execution_count": 1,
   "metadata": {},
   "outputs": [],
   "source": [
    "import os\n",
    "os.chdir('..')\n",
    "\n",
    "from puzzle_generator import *"
   ]
  },
  {
   "cell_type": "code",
   "execution_count": 2,
   "metadata": {},
   "outputs": [],
   "source": [
    "width = 6\n",
    "height = 6\n",
    "puzzle = RectangularPuzzle(\n",
    "    width=width,\n",
    "    height=height\n",
    ")\n",
    "\n",
    "puzzle.solving_timeout = 120\n",
    "\n",
    "puzzle.naming = {\n",
    "    None: '  ',\n",
    "    'e': ' _',\n",
    "    'p': ' +',\n",
    "    'm': ' -',\n",
    "}\n",
    "for i in range(9):\n",
    "    puzzle.naming[str(i)] = f\" {i}\"\n",
    "\n",
    "puzzle.domain_program += f\"\"\"\n",
    "    value(m;p).\n",
    "    value(N) :- num(N).\n",
    "    num(0..8).\n",
    "    num(-N) :- num(N).\n",
    "\"\"\"\n",
    "\n",
    "puzzle.puzzle_gen_program += \"\"\"\n",
    "    { puzzle(C,V) : cell(C), value(V) }.\n",
    "    :- puzzle(C,m), cell(C).\n",
    "    :- puzzle(C,p), cell(C).\n",
    "    :- puzzle(C,0), cell(C).\n",
    "\"\"\"\n",
    "puzzle.puzzle_constraints_program += \"\"\"\n",
    "    #minimize { 1,puzzle(C,V) : puzzle(C,V) }.\n",
    "    \n",
    "    :- P = #count { D : cell(D), solution(D,p) },\n",
    "        M = #count { D : cell(D), solution(D,m) },\n",
    "        |P-M| > 4.\n",
    "    \n",
    "    :- 0 { solution(D,m) } 0.\n",
    "    :- 0 { solution(D,p) } 0.\n",
    "    :- 5 { solution(D,m) }.\n",
    "    :- 5 { solution(D,p) }.\n",
    "    \n",
    "    :- puzzle(C,V) : solution(C,V), num(V), V > 0.\n",
    "\"\"\"\n",
    "\n",
    "puzzle.solution_program = \"\"\"\n",
    "    1 { solution(C,V) : value(V) } 1 :- cell(C).\n",
    "    solution(C,V) :- puzzle(C,V).\n",
    "\"\"\"\n",
    "puzzle.solution_program += enc_library['ring_around_cell']\n",
    "puzzle.solution_program += \"\"\"\n",
    "    :- cell(C), solution(C,N), num(N),\n",
    "        P = #count { D : cell(D), ring_around_cell(C,D,1), solution(D,p) },\n",
    "        M = #count { D : cell(D), ring_around_cell(C,D,1), solution(D,m) },\n",
    "        N != P - M.\n",
    "\"\"\""
   ]
  },
  {
   "cell_type": "code",
   "execution_count": 3,
   "metadata": {},
   "outputs": [
    {
     "name": "stdout",
     "output_type": "stream",
     "text": [
      "Done grounding..\n",
      "....\n",
      "Stopped after solving timeout..\n",
      "Solving time: 126.10 seconds\n",
      "\n"
     ]
    }
   ],
   "source": [
    "puzzle.generate(\n",
    "    verbose=True,\n",
    "    precompute_solution=False,\n",
    ")"
   ]
  },
  {
   "cell_type": "code",
   "execution_count": 4,
   "metadata": {},
   "outputs": [
    {
     "name": "stdout",
     "output_type": "stream",
     "text": [
      "| 1| 1|  |  |  |  |\n",
      "|  |  |-1|-1|-1|  |\n",
      "|  |  |-1|  |-1|  |\n",
      "|  |-1|-3|-2|-1|  |\n",
      "| 2|  |  |  |  | 1|\n",
      "| 2|  |  |-1|  | 1|\n"
     ]
    }
   ],
   "source": [
    "print(puzzle.pretty_repr_puzzle())"
   ]
  },
  {
   "cell_type": "code",
   "execution_count": 5,
   "metadata": {},
   "outputs": [
    {
     "name": "stdout",
     "output_type": "stream",
     "text": [
      "| 1| 1| 1| 0| 0| 0|\n",
      "| 0| +|-1|-1|-1| 0|\n",
      "| 0| -|-1| -|-1| 0|\n",
      "| 0|-1|-3|-2|-1| 1|\n",
      "| 2| +| -| -| +| 1|\n",
      "| 2| +| 0|-1| 0| 1|\n"
     ]
    }
   ],
   "source": [
    "print(puzzle.pretty_repr_solution())"
   ]
  },
  {
   "cell_type": "code",
   "execution_count": null,
   "metadata": {},
   "outputs": [],
   "source": []
  }
 ],
 "metadata": {
  "kernelspec": {
   "display_name": "Python 3 (ipykernel)",
   "language": "python",
   "name": "python3"
  },
  "language_info": {
   "codemirror_mode": {
    "name": "ipython",
    "version": 3
   },
   "file_extension": ".py",
   "mimetype": "text/x-python",
   "name": "python",
   "nbconvert_exporter": "python",
   "pygments_lexer": "ipython3",
   "version": "3.9.12"
  }
 },
 "nbformat": 4,
 "nbformat_minor": 4
}
