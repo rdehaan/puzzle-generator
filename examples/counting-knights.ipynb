{
 "cells": [
  {
   "cell_type": "code",
   "execution_count": 1,
   "metadata": {},
   "outputs": [],
   "source": [
    "import os\n",
    "os.chdir('..')\n",
    "\n",
    "from puzzle_generator import *"
   ]
  },
  {
   "cell_type": "code",
   "execution_count": 2,
   "metadata": {},
   "outputs": [],
   "source": [
    "width = 6\n",
    "height = 6\n",
    "puzzle = RectangularPuzzle(\n",
    "    width=width,\n",
    "    height=height\n",
    ")\n",
    "\n",
    "puzzle.solving_timeout = 30\n",
    "\n",
    "puzzle.naming = {\n",
    "    None: '_',\n",
    "    '0': '0',\n",
    "    '1': '1',\n",
    "    'e': ' ',\n",
    "}\n",
    "\n",
    "puzzle.domain_program += \"\"\"\n",
    "    1 { guessed_number(num_knights,6..15) } 1.\n",
    "    value(e).\n",
    "    num(1..8).\n",
    "    value(N) :- num(N).\n",
    "\"\"\"\n",
    "\n",
    "puzzle.puzzle_program += \"\"\"\n",
    "    { puzzle(C,V) : cell(C), value(V) }.\n",
    "    #minimize { 1,puzzle(C,V) : puzzle(C,V) }.\n",
    "    :- puzzle(C,e), cell(C).\n",
    "\"\"\"\n",
    "\n",
    "puzzle.solution_program += enc_library['knights_move']\n",
    "puzzle.solution_program += \"\"\"\n",
    "    :- guessed_number(num_knights,N),\n",
    "        not N { solution(C,M) : solution(C,M), num(M) } N.\n",
    "    :- solution(C1,N), num(N),\n",
    "        not N { solution(C2,M) : knights_move(C1,C2), solution(C2,M), num(M) } N.\n",
    "\"\"\""
   ]
  },
  {
   "cell_type": "code",
   "execution_count": 3,
   "metadata": {},
   "outputs": [
    {
     "name": "stdout",
     "output_type": "stream",
     "text": [
      "......\n",
      "Stopped after solving timeout..\n",
      "Solving time: 37.28 seconds\n",
      "\n"
     ]
    }
   ],
   "source": [
    "puzzle.generate(\n",
    "    verbose=True,\n",
    "    precompute_solution=False,\n",
    ")"
   ]
  },
  {
   "cell_type": "code",
   "execution_count": 4,
   "metadata": {},
   "outputs": [
    {
     "name": "stdout",
     "output_type": "stream",
     "text": [
      "|1|1|_|_|_|_|\n",
      "|_|_|_|_|_|_|\n",
      "|3|_|_|_|_|_|\n",
      "|_|_|_|_|_|4|\n",
      "|1|_|5|_|_|_|\n",
      "|_|_|_|_|_|_|\n",
      "\n",
      "num_knights = 15\n"
     ]
    }
   ],
   "source": [
    "print(puzzle.pretty_repr_puzzle())"
   ]
  },
  {
   "cell_type": "code",
   "execution_count": 5,
   "metadata": {},
   "outputs": [
    {
     "name": "stdout",
     "output_type": "stream",
     "text": [
      "|1|1| | | | |\n",
      "| | |2| |1| |\n",
      "|3| | |2| | |\n",
      "|1| |2| |1|4|\n",
      "|1| |5|1| | |\n",
      "|1| | | |2| |\n"
     ]
    }
   ],
   "source": [
    "print(puzzle.pretty_repr_solution())"
   ]
  },
  {
   "cell_type": "code",
   "execution_count": null,
   "metadata": {},
   "outputs": [],
   "source": []
  }
 ],
 "metadata": {
  "kernelspec": {
   "display_name": "Python 3 (ipykernel)",
   "language": "python",
   "name": "python3"
  },
  "language_info": {
   "codemirror_mode": {
    "name": "ipython",
    "version": 3
   },
   "file_extension": ".py",
   "mimetype": "text/x-python",
   "name": "python",
   "nbconvert_exporter": "python",
   "pygments_lexer": "ipython3",
   "version": "3.9.12"
  }
 },
 "nbformat": 4,
 "nbformat_minor": 4
}
